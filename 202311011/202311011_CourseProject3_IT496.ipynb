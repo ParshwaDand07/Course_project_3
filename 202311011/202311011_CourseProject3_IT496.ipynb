{
 "cells": [
  {
   "cell_type": "markdown",
   "id": "d1e50214",
   "metadata": {},
   "source": [
    "# Data Mining Project 3\n",
    "\n",
    "### Datasets used: \n",
    "### 1. Odi-mens-cricket-match-data-2002-2023\n",
    "### 2. icc-mens-world-cup-2023 data"
   ]
  },
  {
   "cell_type": "code",
   "execution_count": 273,
   "id": "7aa0436a",
   "metadata": {},
   "outputs": [],
   "source": [
    "import math\n",
    "import numpy as np\n",
    "import pandas as pd\n",
    "\n",
    "import matplotlib.pyplot as plt\n",
    "from sklearn.preprocessing import LabelEncoder\n",
    "from sklearn.model_selection import train_test_split, KFold, cross_val_score \n",
    "from sklearn.metrics import accuracy_score, f1_score, precision_score, recall_score "
   ]
  },
  {
   "cell_type": "code",
   "execution_count": 274,
   "id": "d2fd5f15",
   "metadata": {},
   "outputs": [],
   "source": [
    "from sklearn.ensemble import RandomForestClassifier\n",
    "from sklearn.naive_bayes import CategoricalNB\n",
    "from sklearn.neighbors import KNeighborsClassifier\n",
    "from sklearn.neural_network import MLPClassifier"
   ]
  },
  {
   "cell_type": "code",
   "execution_count": 275,
   "id": "82544bb5",
   "metadata": {},
   "outputs": [],
   "source": [
    "from tensorflow import keras\n",
    "from keras.utils import to_categorical"
   ]
  },
  {
   "cell_type": "code",
   "execution_count": 276,
   "id": "f85b3eba",
   "metadata": {},
   "outputs": [],
   "source": [
    "pd.set_option('display.max_columns', None)"
   ]
  },
  {
   "cell_type": "markdown",
   "id": "1af78bc0",
   "metadata": {},
   "source": [
    "# Task 3"
   ]
  },
  {
   "cell_type": "markdown",
   "id": "28e70f4c",
   "metadata": {},
   "source": [
    "**Loading Datasets**"
   ]
  },
  {
   "cell_type": "code",
   "execution_count": 277,
   "id": "db7bca4d",
   "metadata": {},
   "outputs": [],
   "source": [
    "df = pd.read_csv('ODI_Match_info.csv')"
   ]
  },
  {
   "cell_type": "code",
   "execution_count": 278,
   "id": "a2505ec4",
   "metadata": {
    "scrolled": false
   },
   "outputs": [
    {
     "data": {
      "text/html": [
       "<div>\n",
       "<style scoped>\n",
       "    .dataframe tbody tr th:only-of-type {\n",
       "        vertical-align: middle;\n",
       "    }\n",
       "\n",
       "    .dataframe tbody tr th {\n",
       "        vertical-align: top;\n",
       "    }\n",
       "\n",
       "    .dataframe thead th {\n",
       "        text-align: right;\n",
       "    }\n",
       "</style>\n",
       "<table border=\"1\" class=\"dataframe\">\n",
       "  <thead>\n",
       "    <tr style=\"text-align: right;\">\n",
       "      <th></th>\n",
       "      <th>id</th>\n",
       "      <th>season</th>\n",
       "      <th>city</th>\n",
       "      <th>date</th>\n",
       "      <th>team1</th>\n",
       "      <th>team2</th>\n",
       "      <th>toss_winner</th>\n",
       "      <th>toss_decision</th>\n",
       "      <th>result</th>\n",
       "      <th>dl_applied</th>\n",
       "      <th>winner</th>\n",
       "      <th>win_by_runs</th>\n",
       "      <th>win_by_wickets</th>\n",
       "      <th>player_of_match</th>\n",
       "      <th>venue</th>\n",
       "      <th>umpire1</th>\n",
       "      <th>umpire2</th>\n",
       "      <th>umpire3</th>\n",
       "    </tr>\n",
       "  </thead>\n",
       "  <tbody>\n",
       "    <tr>\n",
       "      <th>0</th>\n",
       "      <td>1389389</td>\n",
       "      <td>2023/24</td>\n",
       "      <td>Indore</td>\n",
       "      <td>2023/09/24</td>\n",
       "      <td>India</td>\n",
       "      <td>Australia</td>\n",
       "      <td>Australia</td>\n",
       "      <td>field</td>\n",
       "      <td>D/L</td>\n",
       "      <td>1</td>\n",
       "      <td>India</td>\n",
       "      <td>99</td>\n",
       "      <td>0</td>\n",
       "      <td>SS Iyer</td>\n",
       "      <td>Holkar Cricket Stadium, Indore</td>\n",
       "      <td>J Madanagopal</td>\n",
       "      <td>HDPK Dharmasena</td>\n",
       "      <td>KN Ananthapadmanabhan</td>\n",
       "    </tr>\n",
       "    <tr>\n",
       "      <th>1</th>\n",
       "      <td>1336129</td>\n",
       "      <td>2023</td>\n",
       "      <td>Nottingham</td>\n",
       "      <td>2023/09/23</td>\n",
       "      <td>England</td>\n",
       "      <td>Ireland</td>\n",
       "      <td>Ireland</td>\n",
       "      <td>field</td>\n",
       "      <td>normal</td>\n",
       "      <td>0</td>\n",
       "      <td>England</td>\n",
       "      <td>48</td>\n",
       "      <td>0</td>\n",
       "      <td>WG Jacks</td>\n",
       "      <td>Trent Bridge, Nottingham</td>\n",
       "      <td>DJ Millns</td>\n",
       "      <td>RJ Tucker</td>\n",
       "      <td>PR Reiffel</td>\n",
       "    </tr>\n",
       "    <tr>\n",
       "      <th>2</th>\n",
       "      <td>1395701</td>\n",
       "      <td>2023</td>\n",
       "      <td>Dhaka</td>\n",
       "      <td>2023/09/23</td>\n",
       "      <td>New Zealand</td>\n",
       "      <td>Bangladesh</td>\n",
       "      <td>New Zealand</td>\n",
       "      <td>bat</td>\n",
       "      <td>normal</td>\n",
       "      <td>0</td>\n",
       "      <td>New Zealand</td>\n",
       "      <td>86</td>\n",
       "      <td>0</td>\n",
       "      <td>IS Sodhi</td>\n",
       "      <td>Shere Bangla National Stadium, Mirpur</td>\n",
       "      <td>M Erasmus</td>\n",
       "      <td>Sharfuddoula</td>\n",
       "      <td>Nitin Menon</td>\n",
       "    </tr>\n",
       "    <tr>\n",
       "      <th>3</th>\n",
       "      <td>1389388</td>\n",
       "      <td>2023/24</td>\n",
       "      <td>Chandigarh</td>\n",
       "      <td>2023/09/22</td>\n",
       "      <td>Australia</td>\n",
       "      <td>India</td>\n",
       "      <td>India</td>\n",
       "      <td>field</td>\n",
       "      <td>normal</td>\n",
       "      <td>0</td>\n",
       "      <td>India</td>\n",
       "      <td>0</td>\n",
       "      <td>5</td>\n",
       "      <td>Mohammed Shami</td>\n",
       "      <td>Punjab Cricket Association IS Bindra Stadium, ...</td>\n",
       "      <td>KN Ananthapadmanabhan</td>\n",
       "      <td>HDPK Dharmasena</td>\n",
       "      <td>J Madanagopal</td>\n",
       "    </tr>\n",
       "    <tr>\n",
       "      <th>4</th>\n",
       "      <td>1395700</td>\n",
       "      <td>2023</td>\n",
       "      <td>Dhaka</td>\n",
       "      <td>2023/09/21</td>\n",
       "      <td>New Zealand</td>\n",
       "      <td>Bangladesh</td>\n",
       "      <td>Bangladesh</td>\n",
       "      <td>field</td>\n",
       "      <td>normal</td>\n",
       "      <td>0</td>\n",
       "      <td>NaN</td>\n",
       "      <td>0</td>\n",
       "      <td>0</td>\n",
       "      <td>NaN</td>\n",
       "      <td>Shere Bangla National Stadium, Mirpur</td>\n",
       "      <td>Nitin Menon</td>\n",
       "      <td>Sharfuddoula</td>\n",
       "      <td>M Erasmus</td>\n",
       "    </tr>\n",
       "  </tbody>\n",
       "</table>\n",
       "</div>"
      ],
      "text/plain": [
       "        id   season        city        date        team1       team2  \\\n",
       "0  1389389  2023/24      Indore  2023/09/24        India   Australia   \n",
       "1  1336129     2023  Nottingham  2023/09/23      England     Ireland   \n",
       "2  1395701     2023       Dhaka  2023/09/23  New Zealand  Bangladesh   \n",
       "3  1389388  2023/24  Chandigarh  2023/09/22    Australia       India   \n",
       "4  1395700     2023       Dhaka  2023/09/21  New Zealand  Bangladesh   \n",
       "\n",
       "   toss_winner toss_decision  result  dl_applied       winner  win_by_runs  \\\n",
       "0    Australia         field     D/L           1        India           99   \n",
       "1      Ireland         field  normal           0      England           48   \n",
       "2  New Zealand           bat  normal           0  New Zealand           86   \n",
       "3        India         field  normal           0        India            0   \n",
       "4   Bangladesh         field  normal           0          NaN            0   \n",
       "\n",
       "   win_by_wickets player_of_match  \\\n",
       "0               0         SS Iyer   \n",
       "1               0        WG Jacks   \n",
       "2               0        IS Sodhi   \n",
       "3               5  Mohammed Shami   \n",
       "4               0             NaN   \n",
       "\n",
       "                                               venue                umpire1  \\\n",
       "0                     Holkar Cricket Stadium, Indore          J Madanagopal   \n",
       "1                           Trent Bridge, Nottingham              DJ Millns   \n",
       "2              Shere Bangla National Stadium, Mirpur              M Erasmus   \n",
       "3  Punjab Cricket Association IS Bindra Stadium, ...  KN Ananthapadmanabhan   \n",
       "4              Shere Bangla National Stadium, Mirpur            Nitin Menon   \n",
       "\n",
       "           umpire2                umpire3  \n",
       "0  HDPK Dharmasena  KN Ananthapadmanabhan  \n",
       "1        RJ Tucker             PR Reiffel  \n",
       "2     Sharfuddoula            Nitin Menon  \n",
       "3  HDPK Dharmasena          J Madanagopal  \n",
       "4     Sharfuddoula              M Erasmus  "
      ]
     },
     "execution_count": 278,
     "metadata": {},
     "output_type": "execute_result"
    }
   ],
   "source": [
    "df.head()"
   ]
  },
  {
   "cell_type": "code",
   "execution_count": 279,
   "id": "ee5300ba",
   "metadata": {},
   "outputs": [],
   "source": [
    "df3 = pd.read_csv('matches.csv')"
   ]
  },
  {
   "cell_type": "code",
   "execution_count": 280,
   "id": "89a2091d",
   "metadata": {},
   "outputs": [
    {
     "data": {
      "text/html": [
       "<div>\n",
       "<style scoped>\n",
       "    .dataframe tbody tr th:only-of-type {\n",
       "        vertical-align: middle;\n",
       "    }\n",
       "\n",
       "    .dataframe tbody tr th {\n",
       "        vertical-align: top;\n",
       "    }\n",
       "\n",
       "    .dataframe thead th {\n",
       "        text-align: right;\n",
       "    }\n",
       "</style>\n",
       "<table border=\"1\" class=\"dataframe\">\n",
       "  <thead>\n",
       "    <tr style=\"text-align: right;\">\n",
       "      <th></th>\n",
       "      <th>season</th>\n",
       "      <th>team1</th>\n",
       "      <th>team2</th>\n",
       "      <th>date</th>\n",
       "      <th>match_number</th>\n",
       "      <th>venue</th>\n",
       "      <th>city</th>\n",
       "      <th>toss_winner</th>\n",
       "      <th>toss_decision</th>\n",
       "      <th>player_of_match</th>\n",
       "      <th>umpire1</th>\n",
       "      <th>umpire2</th>\n",
       "      <th>reserve_umpire</th>\n",
       "      <th>match_referee</th>\n",
       "      <th>winner</th>\n",
       "      <th>winner_runs</th>\n",
       "      <th>winner_wickets</th>\n",
       "      <th>match_type</th>\n",
       "    </tr>\n",
       "  </thead>\n",
       "  <tbody>\n",
       "    <tr>\n",
       "      <th>0</th>\n",
       "      <td>2023/24</td>\n",
       "      <td>England</td>\n",
       "      <td>New Zealand</td>\n",
       "      <td>2023/10/05</td>\n",
       "      <td>1</td>\n",
       "      <td>Narendra Modi Stadium</td>\n",
       "      <td>Ahmedabad</td>\n",
       "      <td>New Zealand</td>\n",
       "      <td>field</td>\n",
       "      <td>R Ravindra</td>\n",
       "      <td>HDPK Dharmasena</td>\n",
       "      <td>Nitin Menon</td>\n",
       "      <td>Sharfuddoula</td>\n",
       "      <td>J Srinath</td>\n",
       "      <td>New Zealand</td>\n",
       "      <td>NaN</td>\n",
       "      <td>9.0</td>\n",
       "      <td>Group</td>\n",
       "    </tr>\n",
       "    <tr>\n",
       "      <th>1</th>\n",
       "      <td>2023/24</td>\n",
       "      <td>Pakistan</td>\n",
       "      <td>Netherlands</td>\n",
       "      <td>2023/10/06</td>\n",
       "      <td>2</td>\n",
       "      <td>Rajiv Gandhi International Stadium</td>\n",
       "      <td>Hyderabad</td>\n",
       "      <td>Netherlands</td>\n",
       "      <td>field</td>\n",
       "      <td>Saud Shakeel</td>\n",
       "      <td>AT Holdstock</td>\n",
       "      <td>CM Brown</td>\n",
       "      <td>PR Reiffel</td>\n",
       "      <td>JJ Crowe</td>\n",
       "      <td>Pakistan</td>\n",
       "      <td>81.0</td>\n",
       "      <td>NaN</td>\n",
       "      <td>Group</td>\n",
       "    </tr>\n",
       "    <tr>\n",
       "      <th>2</th>\n",
       "      <td>2023/24</td>\n",
       "      <td>Afghanistan</td>\n",
       "      <td>Bangladesh</td>\n",
       "      <td>2023/10/07</td>\n",
       "      <td>3</td>\n",
       "      <td>Himachal Pradesh Cricket Association Stadium</td>\n",
       "      <td>Dharamsala</td>\n",
       "      <td>Bangladesh</td>\n",
       "      <td>field</td>\n",
       "      <td>Mehedi Hasan Miraz</td>\n",
       "      <td>JS Wilson</td>\n",
       "      <td>HDPK Dharmasena</td>\n",
       "      <td>M Erasmus</td>\n",
       "      <td>AJ Pycroft</td>\n",
       "      <td>Bangladesh</td>\n",
       "      <td>NaN</td>\n",
       "      <td>6.0</td>\n",
       "      <td>Group</td>\n",
       "    </tr>\n",
       "    <tr>\n",
       "      <th>3</th>\n",
       "      <td>2023/24</td>\n",
       "      <td>South Africa</td>\n",
       "      <td>Sri Lanka</td>\n",
       "      <td>2023/10/07</td>\n",
       "      <td>4</td>\n",
       "      <td>Arun Jaitley Stadium</td>\n",
       "      <td>Delhi</td>\n",
       "      <td>Sri Lanka</td>\n",
       "      <td>field</td>\n",
       "      <td>AK Markram</td>\n",
       "      <td>RK Illingworth</td>\n",
       "      <td>Sharfuddoula</td>\n",
       "      <td>AG Wharf</td>\n",
       "      <td>J Srinath</td>\n",
       "      <td>South Africa</td>\n",
       "      <td>102.0</td>\n",
       "      <td>NaN</td>\n",
       "      <td>Group</td>\n",
       "    </tr>\n",
       "    <tr>\n",
       "      <th>4</th>\n",
       "      <td>2023/24</td>\n",
       "      <td>Australia</td>\n",
       "      <td>India</td>\n",
       "      <td>2023/10/08</td>\n",
       "      <td>5</td>\n",
       "      <td>MA Chidambaram Stadium</td>\n",
       "      <td>Chennai</td>\n",
       "      <td>Australia</td>\n",
       "      <td>bat</td>\n",
       "      <td>KL Rahul</td>\n",
       "      <td>CB Gaffaney</td>\n",
       "      <td>RA Kettleborough</td>\n",
       "      <td>AT Holdstock</td>\n",
       "      <td>RB Richardson</td>\n",
       "      <td>India</td>\n",
       "      <td>NaN</td>\n",
       "      <td>6.0</td>\n",
       "      <td>Group</td>\n",
       "    </tr>\n",
       "  </tbody>\n",
       "</table>\n",
       "</div>"
      ],
      "text/plain": [
       "    season         team1        team2        date  match_number  \\\n",
       "0  2023/24       England  New Zealand  2023/10/05             1   \n",
       "1  2023/24      Pakistan  Netherlands  2023/10/06             2   \n",
       "2  2023/24   Afghanistan   Bangladesh  2023/10/07             3   \n",
       "3  2023/24  South Africa    Sri Lanka  2023/10/07             4   \n",
       "4  2023/24     Australia        India  2023/10/08             5   \n",
       "\n",
       "                                          venue        city  toss_winner  \\\n",
       "0                         Narendra Modi Stadium   Ahmedabad  New Zealand   \n",
       "1            Rajiv Gandhi International Stadium   Hyderabad  Netherlands   \n",
       "2  Himachal Pradesh Cricket Association Stadium  Dharamsala   Bangladesh   \n",
       "3                          Arun Jaitley Stadium       Delhi    Sri Lanka   \n",
       "4                        MA Chidambaram Stadium     Chennai    Australia   \n",
       "\n",
       "  toss_decision     player_of_match          umpire1           umpire2  \\\n",
       "0         field          R Ravindra  HDPK Dharmasena       Nitin Menon   \n",
       "1         field        Saud Shakeel     AT Holdstock          CM Brown   \n",
       "2         field  Mehedi Hasan Miraz        JS Wilson   HDPK Dharmasena   \n",
       "3         field          AK Markram   RK Illingworth      Sharfuddoula   \n",
       "4           bat            KL Rahul      CB Gaffaney  RA Kettleborough   \n",
       "\n",
       "  reserve_umpire  match_referee        winner  winner_runs  winner_wickets  \\\n",
       "0   Sharfuddoula      J Srinath   New Zealand          NaN             9.0   \n",
       "1     PR Reiffel       JJ Crowe      Pakistan         81.0             NaN   \n",
       "2      M Erasmus     AJ Pycroft    Bangladesh          NaN             6.0   \n",
       "3       AG Wharf      J Srinath  South Africa        102.0             NaN   \n",
       "4   AT Holdstock  RB Richardson         India          NaN             6.0   \n",
       "\n",
       "  match_type  \n",
       "0      Group  \n",
       "1      Group  \n",
       "2      Group  \n",
       "3      Group  \n",
       "4      Group  "
      ]
     },
     "execution_count": 280,
     "metadata": {},
     "output_type": "execute_result"
    }
   ],
   "source": [
    "df3.head()"
   ]
  },
  {
   "cell_type": "code",
   "execution_count": 281,
   "id": "c0d6a874",
   "metadata": {},
   "outputs": [
    {
     "data": {
      "text/plain": [
       "(32, 18)"
      ]
     },
     "execution_count": 281,
     "metadata": {},
     "output_type": "execute_result"
    }
   ],
   "source": [
    "df3.shape"
   ]
  },
  {
   "cell_type": "markdown",
   "id": "36e06f1c",
   "metadata": {},
   "source": [
    "**listing columns**"
   ]
  },
  {
   "cell_type": "code",
   "execution_count": 282,
   "id": "7b1b12ef",
   "metadata": {},
   "outputs": [
    {
     "data": {
      "text/plain": [
       "(['id',\n",
       "  'season',\n",
       "  'city',\n",
       "  'date',\n",
       "  'team1',\n",
       "  'team2',\n",
       "  'toss_winner',\n",
       "  'toss_decision',\n",
       "  'result',\n",
       "  'dl_applied',\n",
       "  'winner',\n",
       "  'win_by_runs',\n",
       "  'win_by_wickets',\n",
       "  'player_of_match',\n",
       "  'venue',\n",
       "  'umpire1',\n",
       "  'umpire2',\n",
       "  'umpire3'],\n",
       " 18)"
      ]
     },
     "execution_count": 282,
     "metadata": {},
     "output_type": "execute_result"
    }
   ],
   "source": [
    "df.columns.to_list(), len(df.columns)"
   ]
  },
  {
   "cell_type": "code",
   "execution_count": 283,
   "id": "53f4e427",
   "metadata": {},
   "outputs": [
    {
     "data": {
      "text/plain": [
       "(['season',\n",
       "  'team1',\n",
       "  'team2',\n",
       "  'date',\n",
       "  'match_number',\n",
       "  'venue',\n",
       "  'city',\n",
       "  'toss_winner',\n",
       "  'toss_decision',\n",
       "  'player_of_match',\n",
       "  'umpire1',\n",
       "  'umpire2',\n",
       "  'reserve_umpire',\n",
       "  'match_referee',\n",
       "  'winner',\n",
       "  'winner_runs',\n",
       "  'winner_wickets',\n",
       "  'match_type'],\n",
       " 18)"
      ]
     },
     "execution_count": 283,
     "metadata": {},
     "output_type": "execute_result"
    }
   ],
   "source": [
    "df3.columns.to_list(), len(df3.columns)"
   ]
  },
  {
   "cell_type": "markdown",
   "id": "ad064eaf",
   "metadata": {},
   "source": [
    "Dropping columns that contain data which is obtained after match"
   ]
  },
  {
   "cell_type": "code",
   "execution_count": 284,
   "id": "22d3fa57",
   "metadata": {},
   "outputs": [],
   "source": [
    "df3 = df3.drop(['match_type','winner_runs','winner_wickets','match_referee'], axis = 1)\n",
    "df = df.drop(['dl_applied','win_by_runs','win_by_wickets','result'], axis = 1)"
   ]
  },
  {
   "cell_type": "code",
   "execution_count": 285,
   "id": "bc8c4b37",
   "metadata": {},
   "outputs": [
    {
     "data": {
      "text/plain": [
       "(['id',\n",
       "  'season',\n",
       "  'city',\n",
       "  'date',\n",
       "  'team1',\n",
       "  'team2',\n",
       "  'toss_winner',\n",
       "  'toss_decision',\n",
       "  'winner',\n",
       "  'player_of_match',\n",
       "  'venue',\n",
       "  'umpire1',\n",
       "  'umpire2',\n",
       "  'umpire3'],\n",
       " ['season',\n",
       "  'team1',\n",
       "  'team2',\n",
       "  'date',\n",
       "  'match_number',\n",
       "  'venue',\n",
       "  'city',\n",
       "  'toss_winner',\n",
       "  'toss_decision',\n",
       "  'player_of_match',\n",
       "  'umpire1',\n",
       "  'umpire2',\n",
       "  'reserve_umpire',\n",
       "  'winner'],\n",
       " 14,\n",
       " 14)"
      ]
     },
     "execution_count": 285,
     "metadata": {},
     "output_type": "execute_result"
    }
   ],
   "source": [
    "df.columns.to_list(),df3.columns.to_list(),len(df.columns),len(df3.columns)"
   ]
  },
  {
   "cell_type": "markdown",
   "id": "9154d5de",
   "metadata": {},
   "source": [
    "On listing columns again we see that majority of columns have the same meaning but have different names"
   ]
  },
  {
   "cell_type": "code",
   "execution_count": 286,
   "id": "e8a24d71",
   "metadata": {
    "scrolled": true
   },
   "outputs": [
    {
     "data": {
      "text/html": [
       "<div>\n",
       "<style scoped>\n",
       "    .dataframe tbody tr th:only-of-type {\n",
       "        vertical-align: middle;\n",
       "    }\n",
       "\n",
       "    .dataframe tbody tr th {\n",
       "        vertical-align: top;\n",
       "    }\n",
       "\n",
       "    .dataframe thead th {\n",
       "        text-align: right;\n",
       "    }\n",
       "</style>\n",
       "<table border=\"1\" class=\"dataframe\">\n",
       "  <thead>\n",
       "    <tr style=\"text-align: right;\">\n",
       "      <th></th>\n",
       "      <th>season</th>\n",
       "      <th>team1</th>\n",
       "      <th>team2</th>\n",
       "      <th>date</th>\n",
       "      <th>match_number</th>\n",
       "      <th>venue</th>\n",
       "      <th>city</th>\n",
       "      <th>toss_winner</th>\n",
       "      <th>toss_decision</th>\n",
       "      <th>player_of_match</th>\n",
       "      <th>umpire1</th>\n",
       "      <th>umpire2</th>\n",
       "      <th>reserve_umpire</th>\n",
       "      <th>winner</th>\n",
       "    </tr>\n",
       "  </thead>\n",
       "  <tbody>\n",
       "    <tr>\n",
       "      <th>0</th>\n",
       "      <td>2023/24</td>\n",
       "      <td>England</td>\n",
       "      <td>New Zealand</td>\n",
       "      <td>2023/10/05</td>\n",
       "      <td>1</td>\n",
       "      <td>Narendra Modi Stadium</td>\n",
       "      <td>Ahmedabad</td>\n",
       "      <td>New Zealand</td>\n",
       "      <td>field</td>\n",
       "      <td>R Ravindra</td>\n",
       "      <td>HDPK Dharmasena</td>\n",
       "      <td>Nitin Menon</td>\n",
       "      <td>Sharfuddoula</td>\n",
       "      <td>New Zealand</td>\n",
       "    </tr>\n",
       "    <tr>\n",
       "      <th>1</th>\n",
       "      <td>2023/24</td>\n",
       "      <td>Pakistan</td>\n",
       "      <td>Netherlands</td>\n",
       "      <td>2023/10/06</td>\n",
       "      <td>2</td>\n",
       "      <td>Rajiv Gandhi International Stadium</td>\n",
       "      <td>Hyderabad</td>\n",
       "      <td>Netherlands</td>\n",
       "      <td>field</td>\n",
       "      <td>Saud Shakeel</td>\n",
       "      <td>AT Holdstock</td>\n",
       "      <td>CM Brown</td>\n",
       "      <td>PR Reiffel</td>\n",
       "      <td>Pakistan</td>\n",
       "    </tr>\n",
       "  </tbody>\n",
       "</table>\n",
       "</div>"
      ],
      "text/plain": [
       "    season     team1        team2        date  match_number  \\\n",
       "0  2023/24   England  New Zealand  2023/10/05             1   \n",
       "1  2023/24  Pakistan  Netherlands  2023/10/06             2   \n",
       "\n",
       "                                venue       city  toss_winner toss_decision  \\\n",
       "0               Narendra Modi Stadium  Ahmedabad  New Zealand         field   \n",
       "1  Rajiv Gandhi International Stadium  Hyderabad  Netherlands         field   \n",
       "\n",
       "  player_of_match          umpire1      umpire2 reserve_umpire       winner  \n",
       "0      R Ravindra  HDPK Dharmasena  Nitin Menon   Sharfuddoula  New Zealand  \n",
       "1    Saud Shakeel     AT Holdstock     CM Brown     PR Reiffel     Pakistan  "
      ]
     },
     "execution_count": 286,
     "metadata": {},
     "output_type": "execute_result"
    }
   ],
   "source": [
    "df3.head(2)"
   ]
  },
  {
   "cell_type": "markdown",
   "id": "275ec0bb",
   "metadata": {},
   "source": [
    "renaming columns in order to append dataframes"
   ]
  },
  {
   "cell_type": "code",
   "execution_count": 287,
   "id": "55c4875c",
   "metadata": {
    "scrolled": true
   },
   "outputs": [
    {
     "data": {
      "text/plain": [
       "['season',\n",
       " 'team1',\n",
       " 'team2',\n",
       " 'date',\n",
       " 'id',\n",
       " 'venue',\n",
       " 'city',\n",
       " 'toss_winner',\n",
       " 'toss_decision',\n",
       " 'player_of_match',\n",
       " 'umpire1',\n",
       " 'umpire2',\n",
       " 'umpire3',\n",
       " 'winner']"
      ]
     },
     "execution_count": 287,
     "metadata": {},
     "output_type": "execute_result"
    }
   ],
   "source": [
    "df3 = df3.rename(columns={\"match_number\":\"id\",\"reserve_umpire\":\"umpire3\"})\n",
    "df3.columns.to_list()"
   ]
  },
  {
   "cell_type": "markdown",
   "id": "909fbeb2",
   "metadata": {},
   "source": [
    "reordering columns in order to append dataframes"
   ]
  },
  {
   "cell_type": "code",
   "execution_count": 288,
   "id": "c8b6fdd6",
   "metadata": {},
   "outputs": [],
   "source": [
    "df3 = df3[df.columns]"
   ]
  },
  {
   "cell_type": "markdown",
   "id": "e42da388",
   "metadata": {},
   "source": [
    "Checking the id column of both dataframes"
   ]
  },
  {
   "cell_type": "code",
   "execution_count": 289,
   "id": "557a575c",
   "metadata": {},
   "outputs": [
    {
     "data": {
      "text/html": [
       "<div>\n",
       "<style scoped>\n",
       "    .dataframe tbody tr th:only-of-type {\n",
       "        vertical-align: middle;\n",
       "    }\n",
       "\n",
       "    .dataframe tbody tr th {\n",
       "        vertical-align: top;\n",
       "    }\n",
       "\n",
       "    .dataframe thead th {\n",
       "        text-align: right;\n",
       "    }\n",
       "</style>\n",
       "<table border=\"1\" class=\"dataframe\">\n",
       "  <thead>\n",
       "    <tr style=\"text-align: right;\">\n",
       "      <th></th>\n",
       "      <th>id</th>\n",
       "      <th>season</th>\n",
       "      <th>city</th>\n",
       "      <th>date</th>\n",
       "      <th>team1</th>\n",
       "      <th>team2</th>\n",
       "      <th>toss_winner</th>\n",
       "      <th>toss_decision</th>\n",
       "      <th>winner</th>\n",
       "      <th>player_of_match</th>\n",
       "      <th>venue</th>\n",
       "      <th>umpire1</th>\n",
       "      <th>umpire2</th>\n",
       "      <th>umpire3</th>\n",
       "    </tr>\n",
       "  </thead>\n",
       "  <tbody>\n",
       "    <tr>\n",
       "      <th>0</th>\n",
       "      <td>1389389</td>\n",
       "      <td>2023/24</td>\n",
       "      <td>Indore</td>\n",
       "      <td>2023/09/24</td>\n",
       "      <td>India</td>\n",
       "      <td>Australia</td>\n",
       "      <td>Australia</td>\n",
       "      <td>field</td>\n",
       "      <td>India</td>\n",
       "      <td>SS Iyer</td>\n",
       "      <td>Holkar Cricket Stadium, Indore</td>\n",
       "      <td>J Madanagopal</td>\n",
       "      <td>HDPK Dharmasena</td>\n",
       "      <td>KN Ananthapadmanabhan</td>\n",
       "    </tr>\n",
       "    <tr>\n",
       "      <th>3</th>\n",
       "      <td>1389388</td>\n",
       "      <td>2023/24</td>\n",
       "      <td>Chandigarh</td>\n",
       "      <td>2023/09/22</td>\n",
       "      <td>Australia</td>\n",
       "      <td>India</td>\n",
       "      <td>India</td>\n",
       "      <td>field</td>\n",
       "      <td>India</td>\n",
       "      <td>Mohammed Shami</td>\n",
       "      <td>Punjab Cricket Association IS Bindra Stadium, ...</td>\n",
       "      <td>KN Ananthapadmanabhan</td>\n",
       "      <td>HDPK Dharmasena</td>\n",
       "      <td>J Madanagopal</td>\n",
       "    </tr>\n",
       "    <tr>\n",
       "      <th>6</th>\n",
       "      <td>1373575</td>\n",
       "      <td>2023/24</td>\n",
       "      <td>Johannesburg</td>\n",
       "      <td>2023/09/17</td>\n",
       "      <td>South Africa</td>\n",
       "      <td>Australia</td>\n",
       "      <td>Australia</td>\n",
       "      <td>field</td>\n",
       "      <td>South Africa</td>\n",
       "      <td>M Jansen</td>\n",
       "      <td>The Wanderers Stadium, Johannesburg</td>\n",
       "      <td>A Paleker</td>\n",
       "      <td>RA Kettleborough</td>\n",
       "      <td>Nitin Menon</td>\n",
       "    </tr>\n",
       "    <tr>\n",
       "      <th>9</th>\n",
       "      <td>1373574</td>\n",
       "      <td>2023/24</td>\n",
       "      <td>Centurion</td>\n",
       "      <td>2023/09/15</td>\n",
       "      <td>South Africa</td>\n",
       "      <td>Australia</td>\n",
       "      <td>Australia</td>\n",
       "      <td>field</td>\n",
       "      <td>South Africa</td>\n",
       "      <td>H Klaasen</td>\n",
       "      <td>SuperSport Park, Centurion</td>\n",
       "      <td>A Paleker</td>\n",
       "      <td>Nitin Menon</td>\n",
       "      <td>RA Kettleborough</td>\n",
       "    </tr>\n",
       "    <tr>\n",
       "      <th>12</th>\n",
       "      <td>1373573</td>\n",
       "      <td>2023/24</td>\n",
       "      <td>Potchefstroom</td>\n",
       "      <td>2023/09/12</td>\n",
       "      <td>South Africa</td>\n",
       "      <td>Australia</td>\n",
       "      <td>Australia</td>\n",
       "      <td>field</td>\n",
       "      <td>South Africa</td>\n",
       "      <td>AK Markram</td>\n",
       "      <td>Sedgars Park, Potchefstroom</td>\n",
       "      <td>BP Jele</td>\n",
       "      <td>RA Kettleborough</td>\n",
       "      <td>Nitin Menon</td>\n",
       "    </tr>\n",
       "  </tbody>\n",
       "</table>\n",
       "</div>"
      ],
      "text/plain": [
       "         id   season           city        date         team1      team2  \\\n",
       "0   1389389  2023/24         Indore  2023/09/24         India  Australia   \n",
       "3   1389388  2023/24     Chandigarh  2023/09/22     Australia      India   \n",
       "6   1373575  2023/24   Johannesburg  2023/09/17  South Africa  Australia   \n",
       "9   1373574  2023/24      Centurion  2023/09/15  South Africa  Australia   \n",
       "12  1373573  2023/24  Potchefstroom  2023/09/12  South Africa  Australia   \n",
       "\n",
       "   toss_winner toss_decision        winner player_of_match  \\\n",
       "0    Australia         field         India         SS Iyer   \n",
       "3        India         field         India  Mohammed Shami   \n",
       "6    Australia         field  South Africa        M Jansen   \n",
       "9    Australia         field  South Africa       H Klaasen   \n",
       "12   Australia         field  South Africa      AK Markram   \n",
       "\n",
       "                                                venue                umpire1  \\\n",
       "0                      Holkar Cricket Stadium, Indore          J Madanagopal   \n",
       "3   Punjab Cricket Association IS Bindra Stadium, ...  KN Ananthapadmanabhan   \n",
       "6                 The Wanderers Stadium, Johannesburg              A Paleker   \n",
       "9                          SuperSport Park, Centurion              A Paleker   \n",
       "12                        Sedgars Park, Potchefstroom                BP Jele   \n",
       "\n",
       "             umpire2                umpire3  \n",
       "0    HDPK Dharmasena  KN Ananthapadmanabhan  \n",
       "3    HDPK Dharmasena          J Madanagopal  \n",
       "6   RA Kettleborough            Nitin Menon  \n",
       "9        Nitin Menon       RA Kettleborough  \n",
       "12  RA Kettleborough            Nitin Menon  "
      ]
     },
     "execution_count": 289,
     "metadata": {},
     "output_type": "execute_result"
    }
   ],
   "source": [
    "df[df['season']==\"2023/24\"].head()"
   ]
  },
  {
   "cell_type": "code",
   "execution_count": 290,
   "id": "11740ce5",
   "metadata": {
    "scrolled": false
   },
   "outputs": [
    {
     "data": {
      "text/html": [
       "<div>\n",
       "<style scoped>\n",
       "    .dataframe tbody tr th:only-of-type {\n",
       "        vertical-align: middle;\n",
       "    }\n",
       "\n",
       "    .dataframe tbody tr th {\n",
       "        vertical-align: top;\n",
       "    }\n",
       "\n",
       "    .dataframe thead th {\n",
       "        text-align: right;\n",
       "    }\n",
       "</style>\n",
       "<table border=\"1\" class=\"dataframe\">\n",
       "  <thead>\n",
       "    <tr style=\"text-align: right;\">\n",
       "      <th></th>\n",
       "      <th>id</th>\n",
       "      <th>season</th>\n",
       "      <th>city</th>\n",
       "      <th>date</th>\n",
       "      <th>team1</th>\n",
       "      <th>team2</th>\n",
       "      <th>toss_winner</th>\n",
       "      <th>toss_decision</th>\n",
       "      <th>winner</th>\n",
       "      <th>player_of_match</th>\n",
       "      <th>venue</th>\n",
       "      <th>umpire1</th>\n",
       "      <th>umpire2</th>\n",
       "      <th>umpire3</th>\n",
       "    </tr>\n",
       "  </thead>\n",
       "  <tbody>\n",
       "    <tr>\n",
       "      <th>0</th>\n",
       "      <td>1</td>\n",
       "      <td>2023/24</td>\n",
       "      <td>Ahmedabad</td>\n",
       "      <td>2023/10/05</td>\n",
       "      <td>England</td>\n",
       "      <td>New Zealand</td>\n",
       "      <td>New Zealand</td>\n",
       "      <td>field</td>\n",
       "      <td>New Zealand</td>\n",
       "      <td>R Ravindra</td>\n",
       "      <td>Narendra Modi Stadium</td>\n",
       "      <td>HDPK Dharmasena</td>\n",
       "      <td>Nitin Menon</td>\n",
       "      <td>Sharfuddoula</td>\n",
       "    </tr>\n",
       "    <tr>\n",
       "      <th>1</th>\n",
       "      <td>2</td>\n",
       "      <td>2023/24</td>\n",
       "      <td>Hyderabad</td>\n",
       "      <td>2023/10/06</td>\n",
       "      <td>Pakistan</td>\n",
       "      <td>Netherlands</td>\n",
       "      <td>Netherlands</td>\n",
       "      <td>field</td>\n",
       "      <td>Pakistan</td>\n",
       "      <td>Saud Shakeel</td>\n",
       "      <td>Rajiv Gandhi International Stadium</td>\n",
       "      <td>AT Holdstock</td>\n",
       "      <td>CM Brown</td>\n",
       "      <td>PR Reiffel</td>\n",
       "    </tr>\n",
       "    <tr>\n",
       "      <th>2</th>\n",
       "      <td>3</td>\n",
       "      <td>2023/24</td>\n",
       "      <td>Dharamsala</td>\n",
       "      <td>2023/10/07</td>\n",
       "      <td>Afghanistan</td>\n",
       "      <td>Bangladesh</td>\n",
       "      <td>Bangladesh</td>\n",
       "      <td>field</td>\n",
       "      <td>Bangladesh</td>\n",
       "      <td>Mehedi Hasan Miraz</td>\n",
       "      <td>Himachal Pradesh Cricket Association Stadium</td>\n",
       "      <td>JS Wilson</td>\n",
       "      <td>HDPK Dharmasena</td>\n",
       "      <td>M Erasmus</td>\n",
       "    </tr>\n",
       "    <tr>\n",
       "      <th>3</th>\n",
       "      <td>4</td>\n",
       "      <td>2023/24</td>\n",
       "      <td>Delhi</td>\n",
       "      <td>2023/10/07</td>\n",
       "      <td>South Africa</td>\n",
       "      <td>Sri Lanka</td>\n",
       "      <td>Sri Lanka</td>\n",
       "      <td>field</td>\n",
       "      <td>South Africa</td>\n",
       "      <td>AK Markram</td>\n",
       "      <td>Arun Jaitley Stadium</td>\n",
       "      <td>RK Illingworth</td>\n",
       "      <td>Sharfuddoula</td>\n",
       "      <td>AG Wharf</td>\n",
       "    </tr>\n",
       "    <tr>\n",
       "      <th>4</th>\n",
       "      <td>5</td>\n",
       "      <td>2023/24</td>\n",
       "      <td>Chennai</td>\n",
       "      <td>2023/10/08</td>\n",
       "      <td>Australia</td>\n",
       "      <td>India</td>\n",
       "      <td>Australia</td>\n",
       "      <td>bat</td>\n",
       "      <td>India</td>\n",
       "      <td>KL Rahul</td>\n",
       "      <td>MA Chidambaram Stadium</td>\n",
       "      <td>CB Gaffaney</td>\n",
       "      <td>RA Kettleborough</td>\n",
       "      <td>AT Holdstock</td>\n",
       "    </tr>\n",
       "  </tbody>\n",
       "</table>\n",
       "</div>"
      ],
      "text/plain": [
       "   id   season        city        date         team1        team2  \\\n",
       "0   1  2023/24   Ahmedabad  2023/10/05       England  New Zealand   \n",
       "1   2  2023/24   Hyderabad  2023/10/06      Pakistan  Netherlands   \n",
       "2   3  2023/24  Dharamsala  2023/10/07   Afghanistan   Bangladesh   \n",
       "3   4  2023/24       Delhi  2023/10/07  South Africa    Sri Lanka   \n",
       "4   5  2023/24     Chennai  2023/10/08     Australia        India   \n",
       "\n",
       "   toss_winner toss_decision        winner     player_of_match  \\\n",
       "0  New Zealand         field   New Zealand          R Ravindra   \n",
       "1  Netherlands         field      Pakistan        Saud Shakeel   \n",
       "2   Bangladesh         field    Bangladesh  Mehedi Hasan Miraz   \n",
       "3    Sri Lanka         field  South Africa          AK Markram   \n",
       "4    Australia           bat         India            KL Rahul   \n",
       "\n",
       "                                          venue          umpire1  \\\n",
       "0                         Narendra Modi Stadium  HDPK Dharmasena   \n",
       "1            Rajiv Gandhi International Stadium     AT Holdstock   \n",
       "2  Himachal Pradesh Cricket Association Stadium        JS Wilson   \n",
       "3                          Arun Jaitley Stadium   RK Illingworth   \n",
       "4                        MA Chidambaram Stadium      CB Gaffaney   \n",
       "\n",
       "            umpire2       umpire3  \n",
       "0       Nitin Menon  Sharfuddoula  \n",
       "1          CM Brown    PR Reiffel  \n",
       "2   HDPK Dharmasena     M Erasmus  \n",
       "3      Sharfuddoula      AG Wharf  \n",
       "4  RA Kettleborough  AT Holdstock  "
      ]
     },
     "execution_count": 290,
     "metadata": {},
     "output_type": "execute_result"
    }
   ],
   "source": [
    "df3[df3['season']==\"2023/24\"].head()"
   ]
  },
  {
   "cell_type": "markdown",
   "id": "53f9964c",
   "metadata": {},
   "source": [
    "Changing the id of 2023 match dataframe , all matches of 2023 world cup will have same id , this id will be equal to one plus max id value of 2002-2023 dataframe "
   ]
  },
  {
   "cell_type": "code",
   "execution_count": 291,
   "id": "8c5e5498",
   "metadata": {},
   "outputs": [],
   "source": [
    "df3['id']=df['id'].max()+1"
   ]
  },
  {
   "cell_type": "markdown",
   "id": "e159f684",
   "metadata": {},
   "source": [
    "**Concatenating present world cup data and previous odi data**"
   ]
  },
  {
   "cell_type": "code",
   "execution_count": 292,
   "id": "3885a030",
   "metadata": {},
   "outputs": [],
   "source": [
    "df = pd.concat([df, df3], sort=False)"
   ]
  },
  {
   "cell_type": "markdown",
   "id": "0e3125aa",
   "metadata": {},
   "source": [
    "## Handling Null Values and dropping columns"
   ]
  },
  {
   "cell_type": "code",
   "execution_count": 293,
   "id": "40a7d948",
   "metadata": {},
   "outputs": [
    {
     "data": {
      "text/plain": [
       "id                   0\n",
       "season               0\n",
       "city               310\n",
       "date                 0\n",
       "team1                0\n",
       "team2                0\n",
       "toss_winner          0\n",
       "toss_decision        0\n",
       "winner             120\n",
       "player_of_match    151\n",
       "venue                0\n",
       "umpire1              0\n",
       "umpire2              0\n",
       "umpire3            283\n",
       "dtype: int64"
      ]
     },
     "execution_count": 293,
     "metadata": {},
     "output_type": "execute_result"
    }
   ],
   "source": [
    "df.isna().sum()"
   ]
  },
  {
   "cell_type": "markdown",
   "id": "c02390fb",
   "metadata": {},
   "source": [
    "**removing matches where winner not concluded**"
   ]
  },
  {
   "cell_type": "code",
   "execution_count": 294,
   "id": "d4708869",
   "metadata": {},
   "outputs": [],
   "source": [
    "df = df.dropna(axis = 0,subset=['winner'])"
   ]
  },
  {
   "cell_type": "code",
   "execution_count": 295,
   "id": "0fb81216",
   "metadata": {
    "scrolled": true
   },
   "outputs": [
    {
     "data": {
      "text/html": [
       "<div>\n",
       "<style scoped>\n",
       "    .dataframe tbody tr th:only-of-type {\n",
       "        vertical-align: middle;\n",
       "    }\n",
       "\n",
       "    .dataframe tbody tr th {\n",
       "        vertical-align: top;\n",
       "    }\n",
       "\n",
       "    .dataframe thead th {\n",
       "        text-align: right;\n",
       "    }\n",
       "</style>\n",
       "<table border=\"1\" class=\"dataframe\">\n",
       "  <thead>\n",
       "    <tr style=\"text-align: right;\">\n",
       "      <th></th>\n",
       "      <th>id</th>\n",
       "      <th>season</th>\n",
       "      <th>city</th>\n",
       "      <th>date</th>\n",
       "      <th>team1</th>\n",
       "      <th>team2</th>\n",
       "      <th>toss_winner</th>\n",
       "      <th>toss_decision</th>\n",
       "      <th>winner</th>\n",
       "      <th>player_of_match</th>\n",
       "      <th>venue</th>\n",
       "      <th>umpire1</th>\n",
       "      <th>umpire2</th>\n",
       "      <th>umpire3</th>\n",
       "    </tr>\n",
       "  </thead>\n",
       "  <tbody>\n",
       "    <tr>\n",
       "      <th>165</th>\n",
       "      <td>1341974</td>\n",
       "      <td>2022/23</td>\n",
       "      <td>Windhoek</td>\n",
       "      <td>2022/11/26</td>\n",
       "      <td>United States of America</td>\n",
       "      <td>Namibia</td>\n",
       "      <td>Namibia</td>\n",
       "      <td>field</td>\n",
       "      <td>Namibia</td>\n",
       "      <td>NaN</td>\n",
       "      <td>Wanderers Cricket Ground, Windhoek</td>\n",
       "      <td>A Louw</td>\n",
       "      <td>BP Jele</td>\n",
       "      <td>NaN</td>\n",
       "    </tr>\n",
       "    <tr>\n",
       "      <th>183</th>\n",
       "      <td>1331369</td>\n",
       "      <td>2022</td>\n",
       "      <td>Port Moresby</td>\n",
       "      <td>2022/09/20</td>\n",
       "      <td>Namibia</td>\n",
       "      <td>Papua New Guinea</td>\n",
       "      <td>Namibia</td>\n",
       "      <td>bat</td>\n",
       "      <td>Namibia</td>\n",
       "      <td>NaN</td>\n",
       "      <td>Amini Park, Port Moresby</td>\n",
       "      <td>DM Koch</td>\n",
       "      <td>L Oala</td>\n",
       "      <td>NaN</td>\n",
       "    </tr>\n",
       "    <tr>\n",
       "      <th>185</th>\n",
       "      <td>1331367</td>\n",
       "      <td>2022</td>\n",
       "      <td>Port Moresby</td>\n",
       "      <td>2022/09/15</td>\n",
       "      <td>Namibia</td>\n",
       "      <td>United States of America</td>\n",
       "      <td>Namibia</td>\n",
       "      <td>bat</td>\n",
       "      <td>Namibia</td>\n",
       "      <td>NaN</td>\n",
       "      <td>Amini Park, Port Moresby</td>\n",
       "      <td>A Kapa</td>\n",
       "      <td>L Oala</td>\n",
       "      <td>NaN</td>\n",
       "    </tr>\n",
       "    <tr>\n",
       "      <th>186</th>\n",
       "      <td>1331366</td>\n",
       "      <td>2022</td>\n",
       "      <td>Port Moresby</td>\n",
       "      <td>2022/09/13</td>\n",
       "      <td>Papua New Guinea</td>\n",
       "      <td>United States of America</td>\n",
       "      <td>United States of America</td>\n",
       "      <td>field</td>\n",
       "      <td>Papua New Guinea</td>\n",
       "      <td>NaN</td>\n",
       "      <td>Amini Park, Port Moresby</td>\n",
       "      <td>A Kapa</td>\n",
       "      <td>DM Koch</td>\n",
       "      <td>NaN</td>\n",
       "    </tr>\n",
       "    <tr>\n",
       "      <th>254</th>\n",
       "      <td>1312802</td>\n",
       "      <td>2022</td>\n",
       "      <td>Pearland</td>\n",
       "      <td>2022/06/03</td>\n",
       "      <td>Scotland</td>\n",
       "      <td>United Arab Emirates</td>\n",
       "      <td>Scotland</td>\n",
       "      <td>bat</td>\n",
       "      <td>United Arab Emirates</td>\n",
       "      <td>NaN</td>\n",
       "      <td>Moosa Cricket Stadium, Pearland</td>\n",
       "      <td>SN Bandekar</td>\n",
       "      <td>Vijaya Mallela</td>\n",
       "      <td>NaN</td>\n",
       "    </tr>\n",
       "  </tbody>\n",
       "</table>\n",
       "</div>"
      ],
      "text/plain": [
       "          id   season          city        date                     team1  \\\n",
       "165  1341974  2022/23      Windhoek  2022/11/26  United States of America   \n",
       "183  1331369     2022  Port Moresby  2022/09/20                   Namibia   \n",
       "185  1331367     2022  Port Moresby  2022/09/15                   Namibia   \n",
       "186  1331366     2022  Port Moresby  2022/09/13          Papua New Guinea   \n",
       "254  1312802     2022      Pearland  2022/06/03                  Scotland   \n",
       "\n",
       "                        team2               toss_winner toss_decision  \\\n",
       "165                   Namibia                   Namibia         field   \n",
       "183          Papua New Guinea                   Namibia           bat   \n",
       "185  United States of America                   Namibia           bat   \n",
       "186  United States of America  United States of America         field   \n",
       "254      United Arab Emirates                  Scotland           bat   \n",
       "\n",
       "                   winner player_of_match                               venue  \\\n",
       "165               Namibia             NaN  Wanderers Cricket Ground, Windhoek   \n",
       "183               Namibia             NaN            Amini Park, Port Moresby   \n",
       "185               Namibia             NaN            Amini Park, Port Moresby   \n",
       "186      Papua New Guinea             NaN            Amini Park, Port Moresby   \n",
       "254  United Arab Emirates             NaN     Moosa Cricket Stadium, Pearland   \n",
       "\n",
       "         umpire1         umpire2 umpire3  \n",
       "165       A Louw         BP Jele     NaN  \n",
       "183      DM Koch          L Oala     NaN  \n",
       "185       A Kapa          L Oala     NaN  \n",
       "186       A Kapa         DM Koch     NaN  \n",
       "254  SN Bandekar  Vijaya Mallela     NaN  "
      ]
     },
     "execution_count": 295,
     "metadata": {},
     "output_type": "execute_result"
    }
   ],
   "source": [
    "df[df['player_of_match'].isna()].head()"
   ]
  },
  {
   "cell_type": "markdown",
   "id": "1258e784",
   "metadata": {},
   "source": [
    "Removing all columns containing only null values"
   ]
  },
  {
   "cell_type": "code",
   "execution_count": 296,
   "id": "e9f640a6",
   "metadata": {},
   "outputs": [],
   "source": [
    "df = df.dropna(how='all')"
   ]
  },
  {
   "cell_type": "code",
   "execution_count": 297,
   "id": "9975dcb2",
   "metadata": {
    "scrolled": true
   },
   "outputs": [
    {
     "data": {
      "text/plain": [
       "id                   0\n",
       "season               0\n",
       "city               297\n",
       "date                 0\n",
       "team1                0\n",
       "team2                0\n",
       "toss_winner          0\n",
       "toss_decision        0\n",
       "winner               0\n",
       "player_of_match     57\n",
       "venue                0\n",
       "umpire1              0\n",
       "umpire2              0\n",
       "umpire3            268\n",
       "dtype: int64"
      ]
     },
     "execution_count": 297,
     "metadata": {},
     "output_type": "execute_result"
    }
   ],
   "source": [
    "df.isna().sum()"
   ]
  },
  {
   "cell_type": "markdown",
   "id": "c2e6032d",
   "metadata": {},
   "source": [
    "Removing umpire2 and umpire3 column"
   ]
  },
  {
   "cell_type": "code",
   "execution_count": 298,
   "id": "902a2fd1",
   "metadata": {},
   "outputs": [],
   "source": [
    "df = df.drop(['umpire2','umpire3'], axis = 1)"
   ]
  },
  {
   "cell_type": "code",
   "execution_count": 299,
   "id": "b816ef44",
   "metadata": {
    "scrolled": true
   },
   "outputs": [
    {
     "data": {
      "text/html": [
       "<div>\n",
       "<style scoped>\n",
       "    .dataframe tbody tr th:only-of-type {\n",
       "        vertical-align: middle;\n",
       "    }\n",
       "\n",
       "    .dataframe tbody tr th {\n",
       "        vertical-align: top;\n",
       "    }\n",
       "\n",
       "    .dataframe thead th {\n",
       "        text-align: right;\n",
       "    }\n",
       "</style>\n",
       "<table border=\"1\" class=\"dataframe\">\n",
       "  <thead>\n",
       "    <tr style=\"text-align: right;\">\n",
       "      <th></th>\n",
       "      <th>id</th>\n",
       "      <th>season</th>\n",
       "      <th>city</th>\n",
       "      <th>date</th>\n",
       "      <th>team1</th>\n",
       "      <th>team2</th>\n",
       "      <th>toss_winner</th>\n",
       "      <th>toss_decision</th>\n",
       "      <th>winner</th>\n",
       "      <th>player_of_match</th>\n",
       "      <th>venue</th>\n",
       "      <th>umpire1</th>\n",
       "    </tr>\n",
       "  </thead>\n",
       "  <tbody>\n",
       "    <tr>\n",
       "      <th>383</th>\n",
       "      <td>1223956</td>\n",
       "      <td>2020/21</td>\n",
       "      <td>NaN</td>\n",
       "      <td>2020/11/29</td>\n",
       "      <td>Australia</td>\n",
       "      <td>India</td>\n",
       "      <td>Australia</td>\n",
       "      <td>bat</td>\n",
       "      <td>Australia</td>\n",
       "      <td>SPD Smith</td>\n",
       "      <td>Sydney Cricket Ground</td>\n",
       "      <td>GA Abood</td>\n",
       "    </tr>\n",
       "    <tr>\n",
       "      <th>384</th>\n",
       "      <td>1223955</td>\n",
       "      <td>2020/21</td>\n",
       "      <td>NaN</td>\n",
       "      <td>2020/11/27</td>\n",
       "      <td>Australia</td>\n",
       "      <td>India</td>\n",
       "      <td>Australia</td>\n",
       "      <td>bat</td>\n",
       "      <td>Australia</td>\n",
       "      <td>SPD Smith</td>\n",
       "      <td>Sydney Cricket Ground</td>\n",
       "      <td>RJ Tucker</td>\n",
       "    </tr>\n",
       "    <tr>\n",
       "      <th>386</th>\n",
       "      <td>1233462</td>\n",
       "      <td>2020/21</td>\n",
       "      <td>NaN</td>\n",
       "      <td>2020/11/01</td>\n",
       "      <td>Zimbabwe</td>\n",
       "      <td>Pakistan</td>\n",
       "      <td>Zimbabwe</td>\n",
       "      <td>bat</td>\n",
       "      <td>Pakistan</td>\n",
       "      <td>Iftikhar Ahmed</td>\n",
       "      <td>Rawalpindi Cricket Stadium</td>\n",
       "      <td>Asif Yaqoob</td>\n",
       "    </tr>\n",
       "    <tr>\n",
       "      <th>387</th>\n",
       "      <td>1233461</td>\n",
       "      <td>2020/21</td>\n",
       "      <td>NaN</td>\n",
       "      <td>2020/10/30</td>\n",
       "      <td>Pakistan</td>\n",
       "      <td>Zimbabwe</td>\n",
       "      <td>Pakistan</td>\n",
       "      <td>bat</td>\n",
       "      <td>Pakistan</td>\n",
       "      <td>BRM Taylor</td>\n",
       "      <td>Rawalpindi Cricket Stadium</td>\n",
       "      <td>Aleem Dar</td>\n",
       "    </tr>\n",
       "    <tr>\n",
       "      <th>579</th>\n",
       "      <td>1144987</td>\n",
       "      <td>2018/19</td>\n",
       "      <td>NaN</td>\n",
       "      <td>2018/11/09</td>\n",
       "      <td>Australia</td>\n",
       "      <td>South Africa</td>\n",
       "      <td>South Africa</td>\n",
       "      <td>field</td>\n",
       "      <td>Australia</td>\n",
       "      <td>AJ Finch</td>\n",
       "      <td>Adelaide Oval</td>\n",
       "      <td>MA Gough</td>\n",
       "    </tr>\n",
       "  </tbody>\n",
       "</table>\n",
       "</div>"
      ],
      "text/plain": [
       "          id   season city        date      team1         team2   toss_winner  \\\n",
       "383  1223956  2020/21  NaN  2020/11/29  Australia         India     Australia   \n",
       "384  1223955  2020/21  NaN  2020/11/27  Australia         India     Australia   \n",
       "386  1233462  2020/21  NaN  2020/11/01   Zimbabwe      Pakistan      Zimbabwe   \n",
       "387  1233461  2020/21  NaN  2020/10/30   Pakistan      Zimbabwe      Pakistan   \n",
       "579  1144987  2018/19  NaN  2018/11/09  Australia  South Africa  South Africa   \n",
       "\n",
       "    toss_decision     winner player_of_match                       venue  \\\n",
       "383           bat  Australia       SPD Smith       Sydney Cricket Ground   \n",
       "384           bat  Australia       SPD Smith       Sydney Cricket Ground   \n",
       "386           bat   Pakistan  Iftikhar Ahmed  Rawalpindi Cricket Stadium   \n",
       "387           bat   Pakistan      BRM Taylor  Rawalpindi Cricket Stadium   \n",
       "579         field  Australia        AJ Finch               Adelaide Oval   \n",
       "\n",
       "         umpire1  \n",
       "383     GA Abood  \n",
       "384    RJ Tucker  \n",
       "386  Asif Yaqoob  \n",
       "387    Aleem Dar  \n",
       "579     MA Gough  "
      ]
     },
     "execution_count": 299,
     "metadata": {},
     "output_type": "execute_result"
    }
   ],
   "source": [
    "df[df['city'].isna()].head()"
   ]
  },
  {
   "cell_type": "markdown",
   "id": "73590abd",
   "metadata": {},
   "source": [
    "filling in null city column values using venue column, \n",
    "for example some other row may contain city column value where venue is \"Sydney Cricket Stadium\", \n",
    "hence filling these value "
   ]
  },
  {
   "cell_type": "code",
   "execution_count": 300,
   "id": "7efc9439",
   "metadata": {},
   "outputs": [],
   "source": [
    "# First, create a dictionary mapping venues to their corresponding cities\n",
    "venue_city_mapping = df.dropna(subset=['city']).set_index('venue')['city'].to_dict()\n",
    "\n",
    "# Function to fill missing city values based on venue\n",
    "def fill_missing_city(row):\n",
    "    if pd.isnull(row['city']):\n",
    "        return venue_city_mapping.get(row['venue'], row['city'])\n",
    "    return row['city']\n",
    "\n",
    "# Apply the function to fill missing city values\n",
    "df['city'] = df.apply(fill_missing_city, axis=1)\n"
   ]
  },
  {
   "cell_type": "code",
   "execution_count": 301,
   "id": "d64f2fa1",
   "metadata": {
    "scrolled": true
   },
   "outputs": [
    {
     "data": {
      "text/html": [
       "<div>\n",
       "<style scoped>\n",
       "    .dataframe tbody tr th:only-of-type {\n",
       "        vertical-align: middle;\n",
       "    }\n",
       "\n",
       "    .dataframe tbody tr th {\n",
       "        vertical-align: top;\n",
       "    }\n",
       "\n",
       "    .dataframe thead th {\n",
       "        text-align: right;\n",
       "    }\n",
       "</style>\n",
       "<table border=\"1\" class=\"dataframe\">\n",
       "  <thead>\n",
       "    <tr style=\"text-align: right;\">\n",
       "      <th></th>\n",
       "      <th>id</th>\n",
       "      <th>season</th>\n",
       "      <th>city</th>\n",
       "      <th>date</th>\n",
       "      <th>team1</th>\n",
       "      <th>team2</th>\n",
       "      <th>toss_winner</th>\n",
       "      <th>toss_decision</th>\n",
       "      <th>winner</th>\n",
       "      <th>player_of_match</th>\n",
       "      <th>venue</th>\n",
       "      <th>umpire1</th>\n",
       "    </tr>\n",
       "  </thead>\n",
       "  <tbody>\n",
       "    <tr>\n",
       "      <th>581</th>\n",
       "      <td>1144986</td>\n",
       "      <td>2018/19</td>\n",
       "      <td>NaN</td>\n",
       "      <td>2018/11/04</td>\n",
       "      <td>Australia</td>\n",
       "      <td>South Africa</td>\n",
       "      <td>South Africa</td>\n",
       "      <td>field</td>\n",
       "      <td>South Africa</td>\n",
       "      <td>DW Steyn</td>\n",
       "      <td>Perth Stadium</td>\n",
       "      <td>Aleem Dar</td>\n",
       "    </tr>\n",
       "    <tr>\n",
       "      <th>675</th>\n",
       "      <td>1072314</td>\n",
       "      <td>2017/18</td>\n",
       "      <td>NaN</td>\n",
       "      <td>2018/01/28</td>\n",
       "      <td>England</td>\n",
       "      <td>Australia</td>\n",
       "      <td>Australia</td>\n",
       "      <td>field</td>\n",
       "      <td>England</td>\n",
       "      <td>TK Curran</td>\n",
       "      <td>Perth Stadium</td>\n",
       "      <td>CB Gaffaney</td>\n",
       "    </tr>\n",
       "    <tr>\n",
       "      <th>739</th>\n",
       "      <td>1104479</td>\n",
       "      <td>2017</td>\n",
       "      <td>NaN</td>\n",
       "      <td>2017/07/02</td>\n",
       "      <td>Sri Lanka</td>\n",
       "      <td>Zimbabwe</td>\n",
       "      <td>Sri Lanka</td>\n",
       "      <td>field</td>\n",
       "      <td>Sri Lanka</td>\n",
       "      <td>PADLR Sandakan</td>\n",
       "      <td>Galle International Stadium</td>\n",
       "      <td>NJ Llong</td>\n",
       "    </tr>\n",
       "    <tr>\n",
       "      <th>741</th>\n",
       "      <td>1104478</td>\n",
       "      <td>2017</td>\n",
       "      <td>NaN</td>\n",
       "      <td>2017/06/30</td>\n",
       "      <td>Sri Lanka</td>\n",
       "      <td>Zimbabwe</td>\n",
       "      <td>Sri Lanka</td>\n",
       "      <td>bat</td>\n",
       "      <td>Zimbabwe</td>\n",
       "      <td>SF Mire</td>\n",
       "      <td>Galle International Stadium</td>\n",
       "      <td>IJ Gould</td>\n",
       "    </tr>\n",
       "    <tr>\n",
       "      <th>1170</th>\n",
       "      <td>661689</td>\n",
       "      <td>2013/14</td>\n",
       "      <td>NaN</td>\n",
       "      <td>2014/01/01</td>\n",
       "      <td>New Zealand</td>\n",
       "      <td>West Indies</td>\n",
       "      <td>West Indies</td>\n",
       "      <td>field</td>\n",
       "      <td>New Zealand</td>\n",
       "      <td>CJ Anderson</td>\n",
       "      <td>Queenstown Events Centre</td>\n",
       "      <td>CB Gaffaney</td>\n",
       "    </tr>\n",
       "    <tr>\n",
       "      <th>1362</th>\n",
       "      <td>543882</td>\n",
       "      <td>2011/12</td>\n",
       "      <td>NaN</td>\n",
       "      <td>2012/02/20</td>\n",
       "      <td>Kenya</td>\n",
       "      <td>Ireland</td>\n",
       "      <td>Ireland</td>\n",
       "      <td>bat</td>\n",
       "      <td>Ireland</td>\n",
       "      <td>EC Joyce</td>\n",
       "      <td>Mombasa Sports Club Ground</td>\n",
       "      <td>S George</td>\n",
       "    </tr>\n",
       "    <tr>\n",
       "      <th>1365</th>\n",
       "      <td>543881</td>\n",
       "      <td>2011/12</td>\n",
       "      <td>NaN</td>\n",
       "      <td>2012/02/18</td>\n",
       "      <td>Kenya</td>\n",
       "      <td>Ireland</td>\n",
       "      <td>Ireland</td>\n",
       "      <td>bat</td>\n",
       "      <td>Kenya</td>\n",
       "      <td>T Mishra</td>\n",
       "      <td>Mombasa Sports Club Ground</td>\n",
       "      <td>D Odhiambo</td>\n",
       "    </tr>\n",
       "    <tr>\n",
       "      <th>1701</th>\n",
       "      <td>392617</td>\n",
       "      <td>2009</td>\n",
       "      <td>NaN</td>\n",
       "      <td>2009/04/24</td>\n",
       "      <td>Australia</td>\n",
       "      <td>Pakistan</td>\n",
       "      <td>Pakistan</td>\n",
       "      <td>bat</td>\n",
       "      <td>Australia</td>\n",
       "      <td>A Symonds</td>\n",
       "      <td>Dubai Sports City Cricket Stadium</td>\n",
       "      <td>Asad Rauf</td>\n",
       "    </tr>\n",
       "    <tr>\n",
       "      <th>1702</th>\n",
       "      <td>392616</td>\n",
       "      <td>2009</td>\n",
       "      <td>NaN</td>\n",
       "      <td>2009/04/22</td>\n",
       "      <td>Australia</td>\n",
       "      <td>Pakistan</td>\n",
       "      <td>Australia</td>\n",
       "      <td>bat</td>\n",
       "      <td>Pakistan</td>\n",
       "      <td>Shahid Afridi</td>\n",
       "      <td>Dubai Sports City Cricket Stadium</td>\n",
       "      <td>BF Bowden</td>\n",
       "    </tr>\n",
       "    <tr>\n",
       "      <th>1814</th>\n",
       "      <td>323949</td>\n",
       "      <td>2007/08</td>\n",
       "      <td>NaN</td>\n",
       "      <td>2008/03/09</td>\n",
       "      <td>Bangladesh</td>\n",
       "      <td>South Africa</td>\n",
       "      <td>Bangladesh</td>\n",
       "      <td>bat</td>\n",
       "      <td>South Africa</td>\n",
       "      <td>GC Smith</td>\n",
       "      <td>Chittagong Divisional Stadium</td>\n",
       "      <td>Aleem Dar</td>\n",
       "    </tr>\n",
       "    <tr>\n",
       "      <th>1834</th>\n",
       "      <td>325804</td>\n",
       "      <td>2007/08</td>\n",
       "      <td>NaN</td>\n",
       "      <td>2008/02/02</td>\n",
       "      <td>Pakistan</td>\n",
       "      <td>Zimbabwe</td>\n",
       "      <td>Zimbabwe</td>\n",
       "      <td>bat</td>\n",
       "      <td>Pakistan</td>\n",
       "      <td>Younis Khan</td>\n",
       "      <td>Sheikhupura Stadium</td>\n",
       "      <td>Aleem Dar</td>\n",
       "    </tr>\n",
       "    <tr>\n",
       "      <th>1843</th>\n",
       "      <td>300428</td>\n",
       "      <td>2007/08</td>\n",
       "      <td>NaN</td>\n",
       "      <td>2007/12/31</td>\n",
       "      <td>New Zealand</td>\n",
       "      <td>Bangladesh</td>\n",
       "      <td>New Zealand</td>\n",
       "      <td>field</td>\n",
       "      <td>New Zealand</td>\n",
       "      <td>DL Vettori</td>\n",
       "      <td>Queenstown Events Centre</td>\n",
       "      <td>AL Hill</td>\n",
       "    </tr>\n",
       "    <tr>\n",
       "      <th>2068</th>\n",
       "      <td>238173</td>\n",
       "      <td>2005/06</td>\n",
       "      <td>NaN</td>\n",
       "      <td>2006/04/23</td>\n",
       "      <td>Bangladesh</td>\n",
       "      <td>Australia</td>\n",
       "      <td>Bangladesh</td>\n",
       "      <td>bat</td>\n",
       "      <td>Australia</td>\n",
       "      <td>AC Gilchrist</td>\n",
       "      <td>Chittagong Divisional Stadium</td>\n",
       "      <td>IL Howell</td>\n",
       "    </tr>\n",
       "    <tr>\n",
       "      <th>2087</th>\n",
       "      <td>238170</td>\n",
       "      <td>2005/06</td>\n",
       "      <td>NaN</td>\n",
       "      <td>2006/02/25</td>\n",
       "      <td>Bangladesh</td>\n",
       "      <td>Sri Lanka</td>\n",
       "      <td>Bangladesh</td>\n",
       "      <td>field</td>\n",
       "      <td>Sri Lanka</td>\n",
       "      <td>KC Sangakkara</td>\n",
       "      <td>Chittagong Divisional Stadium</td>\n",
       "      <td>AFM Akhtaruddin</td>\n",
       "    </tr>\n",
       "    <tr>\n",
       "      <th>2088</th>\n",
       "      <td>238176</td>\n",
       "      <td>2005/06</td>\n",
       "      <td>NaN</td>\n",
       "      <td>2006/02/22</td>\n",
       "      <td>New Zealand</td>\n",
       "      <td>West Indies</td>\n",
       "      <td>New Zealand</td>\n",
       "      <td>field</td>\n",
       "      <td>New Zealand</td>\n",
       "      <td>DL Vettori</td>\n",
       "      <td>Queenstown Events Centre</td>\n",
       "      <td>BF Bowden</td>\n",
       "    </tr>\n",
       "  </tbody>\n",
       "</table>\n",
       "</div>"
      ],
      "text/plain": [
       "           id   season city        date        team1         team2  \\\n",
       "581   1144986  2018/19  NaN  2018/11/04    Australia  South Africa   \n",
       "675   1072314  2017/18  NaN  2018/01/28      England     Australia   \n",
       "739   1104479     2017  NaN  2017/07/02    Sri Lanka      Zimbabwe   \n",
       "741   1104478     2017  NaN  2017/06/30    Sri Lanka      Zimbabwe   \n",
       "1170   661689  2013/14  NaN  2014/01/01  New Zealand   West Indies   \n",
       "1362   543882  2011/12  NaN  2012/02/20        Kenya       Ireland   \n",
       "1365   543881  2011/12  NaN  2012/02/18        Kenya       Ireland   \n",
       "1701   392617     2009  NaN  2009/04/24    Australia      Pakistan   \n",
       "1702   392616     2009  NaN  2009/04/22    Australia      Pakistan   \n",
       "1814   323949  2007/08  NaN  2008/03/09   Bangladesh  South Africa   \n",
       "1834   325804  2007/08  NaN  2008/02/02     Pakistan      Zimbabwe   \n",
       "1843   300428  2007/08  NaN  2007/12/31  New Zealand    Bangladesh   \n",
       "2068   238173  2005/06  NaN  2006/04/23   Bangladesh     Australia   \n",
       "2087   238170  2005/06  NaN  2006/02/25   Bangladesh     Sri Lanka   \n",
       "2088   238176  2005/06  NaN  2006/02/22  New Zealand   West Indies   \n",
       "\n",
       "       toss_winner toss_decision        winner player_of_match  \\\n",
       "581   South Africa         field  South Africa        DW Steyn   \n",
       "675      Australia         field       England       TK Curran   \n",
       "739      Sri Lanka         field     Sri Lanka  PADLR Sandakan   \n",
       "741      Sri Lanka           bat      Zimbabwe         SF Mire   \n",
       "1170   West Indies         field   New Zealand     CJ Anderson   \n",
       "1362       Ireland           bat       Ireland        EC Joyce   \n",
       "1365       Ireland           bat         Kenya        T Mishra   \n",
       "1701      Pakistan           bat     Australia       A Symonds   \n",
       "1702     Australia           bat      Pakistan   Shahid Afridi   \n",
       "1814    Bangladesh           bat  South Africa        GC Smith   \n",
       "1834      Zimbabwe           bat      Pakistan     Younis Khan   \n",
       "1843   New Zealand         field   New Zealand      DL Vettori   \n",
       "2068    Bangladesh           bat     Australia    AC Gilchrist   \n",
       "2087    Bangladesh         field     Sri Lanka   KC Sangakkara   \n",
       "2088   New Zealand         field   New Zealand      DL Vettori   \n",
       "\n",
       "                                  venue          umpire1  \n",
       "581                       Perth Stadium        Aleem Dar  \n",
       "675                       Perth Stadium      CB Gaffaney  \n",
       "739         Galle International Stadium         NJ Llong  \n",
       "741         Galle International Stadium         IJ Gould  \n",
       "1170           Queenstown Events Centre      CB Gaffaney  \n",
       "1362         Mombasa Sports Club Ground         S George  \n",
       "1365         Mombasa Sports Club Ground       D Odhiambo  \n",
       "1701  Dubai Sports City Cricket Stadium        Asad Rauf  \n",
       "1702  Dubai Sports City Cricket Stadium        BF Bowden  \n",
       "1814      Chittagong Divisional Stadium        Aleem Dar  \n",
       "1834                Sheikhupura Stadium        Aleem Dar  \n",
       "1843           Queenstown Events Centre          AL Hill  \n",
       "2068      Chittagong Divisional Stadium        IL Howell  \n",
       "2087      Chittagong Divisional Stadium  AFM Akhtaruddin  \n",
       "2088           Queenstown Events Centre        BF Bowden  "
      ]
     },
     "execution_count": 301,
     "metadata": {},
     "output_type": "execute_result"
    }
   ],
   "source": [
    " df[df['city'].isna()]\n"
   ]
  },
  {
   "cell_type": "code",
   "execution_count": 302,
   "id": "bfc9df8b",
   "metadata": {},
   "outputs": [
    {
     "data": {
      "text/html": [
       "<div>\n",
       "<style scoped>\n",
       "    .dataframe tbody tr th:only-of-type {\n",
       "        vertical-align: middle;\n",
       "    }\n",
       "\n",
       "    .dataframe tbody tr th {\n",
       "        vertical-align: top;\n",
       "    }\n",
       "\n",
       "    .dataframe thead th {\n",
       "        text-align: right;\n",
       "    }\n",
       "</style>\n",
       "<table border=\"1\" class=\"dataframe\">\n",
       "  <thead>\n",
       "    <tr style=\"text-align: right;\">\n",
       "      <th></th>\n",
       "      <th>id</th>\n",
       "      <th>season</th>\n",
       "      <th>city</th>\n",
       "      <th>date</th>\n",
       "      <th>team1</th>\n",
       "      <th>team2</th>\n",
       "      <th>toss_winner</th>\n",
       "      <th>toss_decision</th>\n",
       "      <th>winner</th>\n",
       "      <th>player_of_match</th>\n",
       "      <th>venue</th>\n",
       "      <th>umpire1</th>\n",
       "    </tr>\n",
       "  </thead>\n",
       "  <tbody>\n",
       "    <tr>\n",
       "      <th>581</th>\n",
       "      <td>1144986</td>\n",
       "      <td>2018/19</td>\n",
       "      <td>NaN</td>\n",
       "      <td>2018/11/04</td>\n",
       "      <td>Australia</td>\n",
       "      <td>South Africa</td>\n",
       "      <td>South Africa</td>\n",
       "      <td>field</td>\n",
       "      <td>South Africa</td>\n",
       "      <td>DW Steyn</td>\n",
       "      <td>Perth Stadium</td>\n",
       "      <td>Aleem Dar</td>\n",
       "    </tr>\n",
       "    <tr>\n",
       "      <th>675</th>\n",
       "      <td>1072314</td>\n",
       "      <td>2017/18</td>\n",
       "      <td>NaN</td>\n",
       "      <td>2018/01/28</td>\n",
       "      <td>England</td>\n",
       "      <td>Australia</td>\n",
       "      <td>Australia</td>\n",
       "      <td>field</td>\n",
       "      <td>England</td>\n",
       "      <td>TK Curran</td>\n",
       "      <td>Perth Stadium</td>\n",
       "      <td>CB Gaffaney</td>\n",
       "    </tr>\n",
       "  </tbody>\n",
       "</table>\n",
       "</div>"
      ],
      "text/plain": [
       "          id   season city        date      team1         team2   toss_winner  \\\n",
       "581  1144986  2018/19  NaN  2018/11/04  Australia  South Africa  South Africa   \n",
       "675  1072314  2017/18  NaN  2018/01/28    England     Australia     Australia   \n",
       "\n",
       "    toss_decision        winner player_of_match          venue      umpire1  \n",
       "581         field  South Africa        DW Steyn  Perth Stadium    Aleem Dar  \n",
       "675         field       England       TK Curran  Perth Stadium  CB Gaffaney  "
      ]
     },
     "execution_count": 302,
     "metadata": {},
     "output_type": "execute_result"
    }
   ],
   "source": [
    "df[df['venue']== 'Perth Stadium']"
   ]
  },
  {
   "cell_type": "markdown",
   "id": "41a227d7",
   "metadata": {},
   "source": [
    "filling null city values left out by above method"
   ]
  },
  {
   "cell_type": "code",
   "execution_count": 303,
   "id": "10ee5b1d",
   "metadata": {},
   "outputs": [],
   "source": [
    "df.loc[df['venue'] == 'Perth Stadium', 'city'] = 'Australia'\n",
    "df.loc[df['venue'] == 'Galle International Stadium', 'city'] = 'Sri Lanka'\n",
    "df.loc[df['venue'] == 'Queenstown Events Centre', 'city'] = 'New Zealand'\n",
    "df.loc[df['venue'] == 'Mombasa Sports Club Ground', 'city'] = 'Kenya'\n",
    "df.loc[df['venue'] == 'Dubai Sports City Cricket Stadium', 'city'] = 'United Arab Emirates'\n",
    "df.loc[df['venue'] == 'Chittagong Divisional Stadium', 'city'] = 'Bangladesh'\n",
    "df.loc[df['venue'] == 'Sheikhupura Stadium', 'city'] = 'Pakistan'"
   ]
  },
  {
   "cell_type": "code",
   "execution_count": 304,
   "id": "d4d8a895",
   "metadata": {},
   "outputs": [
    {
     "data": {
      "text/plain": [
       "id                  0\n",
       "season              0\n",
       "city                0\n",
       "date                0\n",
       "team1               0\n",
       "team2               0\n",
       "toss_winner         0\n",
       "toss_decision       0\n",
       "winner              0\n",
       "player_of_match    57\n",
       "venue               0\n",
       "umpire1             0\n",
       "dtype: int64"
      ]
     },
     "execution_count": 304,
     "metadata": {},
     "output_type": "execute_result"
    }
   ],
   "source": [
    "df.isna().sum()"
   ]
  },
  {
   "cell_type": "markdown",
   "id": "05b66278",
   "metadata": {},
   "source": [
    "converting date to dayofyear"
   ]
  },
  {
   "cell_type": "code",
   "execution_count": 305,
   "id": "8ba02350",
   "metadata": {},
   "outputs": [],
   "source": [
    "df['day_of_year'] = pd.to_datetime(df['date'], format='%Y/%m/%d')\n",
    "\n",
    "# Extract the day of the year and create a new column\n",
    "df['day_of_year'] = df['day_of_year'].dt.dayofyear"
   ]
  },
  {
   "cell_type": "code",
   "execution_count": 306,
   "id": "241a74cb",
   "metadata": {},
   "outputs": [],
   "source": [
    "df = df.drop(['date'], axis = 1)"
   ]
  },
  {
   "cell_type": "code",
   "execution_count": 307,
   "id": "2622b8c9",
   "metadata": {
    "scrolled": true
   },
   "outputs": [
    {
     "data": {
      "text/html": [
       "<div>\n",
       "<style scoped>\n",
       "    .dataframe tbody tr th:only-of-type {\n",
       "        vertical-align: middle;\n",
       "    }\n",
       "\n",
       "    .dataframe tbody tr th {\n",
       "        vertical-align: top;\n",
       "    }\n",
       "\n",
       "    .dataframe thead th {\n",
       "        text-align: right;\n",
       "    }\n",
       "</style>\n",
       "<table border=\"1\" class=\"dataframe\">\n",
       "  <thead>\n",
       "    <tr style=\"text-align: right;\">\n",
       "      <th></th>\n",
       "      <th>id</th>\n",
       "      <th>season</th>\n",
       "      <th>city</th>\n",
       "      <th>team1</th>\n",
       "      <th>team2</th>\n",
       "      <th>toss_winner</th>\n",
       "      <th>toss_decision</th>\n",
       "      <th>winner</th>\n",
       "      <th>player_of_match</th>\n",
       "      <th>venue</th>\n",
       "      <th>umpire1</th>\n",
       "      <th>day_of_year</th>\n",
       "    </tr>\n",
       "  </thead>\n",
       "  <tbody>\n",
       "    <tr>\n",
       "      <th>0</th>\n",
       "      <td>1389389</td>\n",
       "      <td>2023/24</td>\n",
       "      <td>Indore</td>\n",
       "      <td>India</td>\n",
       "      <td>Australia</td>\n",
       "      <td>Australia</td>\n",
       "      <td>field</td>\n",
       "      <td>India</td>\n",
       "      <td>SS Iyer</td>\n",
       "      <td>Holkar Cricket Stadium, Indore</td>\n",
       "      <td>J Madanagopal</td>\n",
       "      <td>267</td>\n",
       "    </tr>\n",
       "    <tr>\n",
       "      <th>1</th>\n",
       "      <td>1336129</td>\n",
       "      <td>2023</td>\n",
       "      <td>Nottingham</td>\n",
       "      <td>England</td>\n",
       "      <td>Ireland</td>\n",
       "      <td>Ireland</td>\n",
       "      <td>field</td>\n",
       "      <td>England</td>\n",
       "      <td>WG Jacks</td>\n",
       "      <td>Trent Bridge, Nottingham</td>\n",
       "      <td>DJ Millns</td>\n",
       "      <td>266</td>\n",
       "    </tr>\n",
       "    <tr>\n",
       "      <th>2</th>\n",
       "      <td>1395701</td>\n",
       "      <td>2023</td>\n",
       "      <td>Dhaka</td>\n",
       "      <td>New Zealand</td>\n",
       "      <td>Bangladesh</td>\n",
       "      <td>New Zealand</td>\n",
       "      <td>bat</td>\n",
       "      <td>New Zealand</td>\n",
       "      <td>IS Sodhi</td>\n",
       "      <td>Shere Bangla National Stadium, Mirpur</td>\n",
       "      <td>M Erasmus</td>\n",
       "      <td>266</td>\n",
       "    </tr>\n",
       "    <tr>\n",
       "      <th>3</th>\n",
       "      <td>1389388</td>\n",
       "      <td>2023/24</td>\n",
       "      <td>Chandigarh</td>\n",
       "      <td>Australia</td>\n",
       "      <td>India</td>\n",
       "      <td>India</td>\n",
       "      <td>field</td>\n",
       "      <td>India</td>\n",
       "      <td>Mohammed Shami</td>\n",
       "      <td>Punjab Cricket Association IS Bindra Stadium, ...</td>\n",
       "      <td>KN Ananthapadmanabhan</td>\n",
       "      <td>265</td>\n",
       "    </tr>\n",
       "    <tr>\n",
       "      <th>5</th>\n",
       "      <td>1388414</td>\n",
       "      <td>2023</td>\n",
       "      <td>Colombo</td>\n",
       "      <td>Sri Lanka</td>\n",
       "      <td>India</td>\n",
       "      <td>Sri Lanka</td>\n",
       "      <td>bat</td>\n",
       "      <td>India</td>\n",
       "      <td>Mohammed Siraj</td>\n",
       "      <td>R Premadasa Stadium, Colombo</td>\n",
       "      <td>Ahmed Shah Pakteen</td>\n",
       "      <td>260</td>\n",
       "    </tr>\n",
       "  </tbody>\n",
       "</table>\n",
       "</div>"
      ],
      "text/plain": [
       "        id   season        city        team1       team2  toss_winner  \\\n",
       "0  1389389  2023/24      Indore        India   Australia    Australia   \n",
       "1  1336129     2023  Nottingham      England     Ireland      Ireland   \n",
       "2  1395701     2023       Dhaka  New Zealand  Bangladesh  New Zealand   \n",
       "3  1389388  2023/24  Chandigarh    Australia       India        India   \n",
       "5  1388414     2023     Colombo    Sri Lanka       India    Sri Lanka   \n",
       "\n",
       "  toss_decision       winner player_of_match  \\\n",
       "0         field        India         SS Iyer   \n",
       "1         field      England        WG Jacks   \n",
       "2           bat  New Zealand        IS Sodhi   \n",
       "3         field        India  Mohammed Shami   \n",
       "5           bat        India  Mohammed Siraj   \n",
       "\n",
       "                                               venue                umpire1  \\\n",
       "0                     Holkar Cricket Stadium, Indore          J Madanagopal   \n",
       "1                           Trent Bridge, Nottingham              DJ Millns   \n",
       "2              Shere Bangla National Stadium, Mirpur              M Erasmus   \n",
       "3  Punjab Cricket Association IS Bindra Stadium, ...  KN Ananthapadmanabhan   \n",
       "5                       R Premadasa Stadium, Colombo     Ahmed Shah Pakteen   \n",
       "\n",
       "   day_of_year  \n",
       "0          267  \n",
       "1          266  \n",
       "2          266  \n",
       "3          265  \n",
       "5          260  "
      ]
     },
     "execution_count": 307,
     "metadata": {},
     "output_type": "execute_result"
    }
   ],
   "source": [
    "df.head()"
   ]
  },
  {
   "cell_type": "markdown",
   "id": "2a79a4fd",
   "metadata": {},
   "source": [
    "venue has both values 'Wankhede Stadium' and 'Wankhede Stadium, Mumbai' , removing location from venue"
   ]
  },
  {
   "cell_type": "code",
   "execution_count": 308,
   "id": "a723c651",
   "metadata": {},
   "outputs": [],
   "source": [
    "df['venue'] = df['venue'].str.split(',').str.get(0)"
   ]
  },
  {
   "cell_type": "code",
   "execution_count": 309,
   "id": "bea18b1f",
   "metadata": {},
   "outputs": [],
   "source": [
    "new_df = df[['season', 'city', 'team1', 'team2', 'toss_winner',\n",
    "       'toss_decision', 'winner', 'venue', 'umpire1', \n",
    "       'day_of_year']]"
   ]
  },
  {
   "cell_type": "code",
   "execution_count": 310,
   "id": "3d7fc34f",
   "metadata": {
    "scrolled": false
   },
   "outputs": [
    {
     "data": {
      "text/plain": [
       "India                       296\n",
       "Australia                   279\n",
       "South Africa                218\n",
       "Sri Lanka                   216\n",
       "England                     210\n",
       "Pakistan                    202\n",
       "New Zealand                 188\n",
       "West Indies                 136\n",
       "Bangladesh                  129\n",
       "Zimbabwe                     67\n",
       "Afghanistan                  59\n",
       "Ireland                      53\n",
       "Scotland                     45\n",
       "United Arab Emirates         34\n",
       "Nepal                        28\n",
       "Oman                         22\n",
       "United States of America     22\n",
       "Namibia                      21\n",
       "Netherlands                  19\n",
       "Kenya                        13\n",
       "Papua New Guinea             11\n",
       "Canada                       10\n",
       "Hong Kong                     6\n",
       "Asia XI                       3\n",
       "Bermuda                       2\n",
       "Jersey                        1\n",
       "Africa XI                     1\n",
       "Name: winner, dtype: int64"
      ]
     },
     "execution_count": 310,
     "metadata": {},
     "output_type": "execute_result"
    }
   ],
   "source": [
    "df['winner'].value_counts()"
   ]
  },
  {
   "cell_type": "markdown",
   "id": "61a0ba69",
   "metadata": {},
   "source": [
    "removing some teams with less number of matches won"
   ]
  },
  {
   "cell_type": "code",
   "execution_count": 311,
   "id": "203d55d8",
   "metadata": {},
   "outputs": [],
   "source": [
    "values_to_drop = ['Scotland',  \n",
    "'United Arab Emirates',      \n",
    "'Nepal',                        \n",
    "'Oman',                         \n",
    "'United States of America',    \n",
    "'Namibia',                    \n",
    "'Netherlands',                  \n",
    "'Kenya',                        \n",
    "'Papua New Guinea',             \n",
    "'Canada',                       \n",
    "'Hong Kong',                    \n",
    "'Asia XI',                    \n",
    "'Bermuda',                    \n",
    "'Jersey',                        \n",
    "'Africa XI',\n",
    "'ICC World XI' ]\n",
    "\n",
    "# Drop rows where the 'winner' column has values in 'values_to_drop'\n",
    "new_df = df[~df['winner'].isin(values_to_drop)]\n",
    "new_df = new_df[~new_df['team1'].isin(values_to_drop)]\n",
    "new_df = new_df[~new_df['team2'].isin(values_to_drop)]"
   ]
  },
  {
   "cell_type": "code",
   "execution_count": 312,
   "id": "56a393d9",
   "metadata": {
    "scrolled": true
   },
   "outputs": [
    {
     "data": {
      "text/plain": [
       "(Sri Lanka       249\n",
       " Pakistan        234\n",
       " India           223\n",
       " Australia       180\n",
       " West Indies     175\n",
       " South Africa    171\n",
       " England         169\n",
       " New Zealand     154\n",
       " Zimbabwe        124\n",
       " Bangladesh      111\n",
       " Afghanistan      51\n",
       " Ireland          50\n",
       " Name: team2, dtype: int64,\n",
       " (1891, 12))"
      ]
     },
     "execution_count": 312,
     "metadata": {},
     "output_type": "execute_result"
    }
   ],
   "source": [
    "new_df['team2'].value_counts(), new_df.shape"
   ]
  },
  {
   "cell_type": "markdown",
   "id": "90ca138c",
   "metadata": {},
   "source": [
    "## Encoding Data"
   ]
  },
  {
   "cell_type": "code",
   "execution_count": 313,
   "id": "508955e4",
   "metadata": {},
   "outputs": [],
   "source": [
    "TeamMapping ={'India':1, 'Australia':2,'South Africa':3,'Sri Lanka':4,'England':5,'Pakistan':6,'New Zealand':7,     \n",
    "'West Indies':8,'Bangladesh':9,'Zimbabwe':10,'Afghanistan':11,'Ireland':12}\n",
    "new_df['team1'] = new_df['team1'].map(TeamMapping)\n",
    "\n",
    "new_df['team2'] = new_df['team2'].map(TeamMapping)\n",
    "\n",
    "new_df['winner'] = new_df['winner'].map(TeamMapping)\n",
    "\n",
    "new_df['toss_winner'] = new_df['toss_winner'].map(TeamMapping)"
   ]
  },
  {
   "cell_type": "code",
   "execution_count": 314,
   "id": "53492a39",
   "metadata": {},
   "outputs": [
    {
     "data": {
      "text/plain": [
       "id                  0\n",
       "season              0\n",
       "city                0\n",
       "team1               0\n",
       "team2               0\n",
       "toss_winner         0\n",
       "toss_decision       0\n",
       "winner              0\n",
       "player_of_match    18\n",
       "venue               0\n",
       "umpire1             0\n",
       "day_of_year         0\n",
       "dtype: int64"
      ]
     },
     "execution_count": 314,
     "metadata": {},
     "output_type": "execute_result"
    }
   ],
   "source": [
    "new_df.isna().sum()"
   ]
  },
  {
   "cell_type": "code",
   "execution_count": 315,
   "id": "d7df1344",
   "metadata": {},
   "outputs": [],
   "source": [
    "#creating a copyof dataframe\n",
    "copy_df = new_df.copy()"
   ]
  },
  {
   "cell_type": "code",
   "execution_count": 316,
   "id": "b6f8bdad",
   "metadata": {},
   "outputs": [],
   "source": [
    "le = LabelEncoder()\n",
    "\n",
    "new_df['season'] = le.fit_transform(new_df['season'])\n",
    "# Create a dictionary mapping original values to encoded values\n",
    "mapping_season = dict(zip(copy_df['season'], new_df['season']))\n",
    "\n",
    "new_df['toss_decision'] = le.fit_transform(new_df['toss_decision'])\n",
    "# Create a dictionary mapping original values to encoded values\n",
    "mapping_toss_decision = dict(zip(copy_df['toss_decision'], new_df['toss_decision']))\n",
    "\n",
    "new_df['city'] = le.fit_transform(new_df['city'])\n",
    "# Create a dictionary mapping original values to encoded values\n",
    "mapping_city = dict(zip(copy_df['city'], new_df['city']))\n",
    "\n",
    "new_df['venue'] = le.fit_transform(new_df['venue'])\n",
    "# Create a dictionary mapping original values to encoded values\n",
    "mapping_venue = dict(zip(copy_df['venue'], new_df['venue']))\n",
    "\n",
    "new_df['umpire1'] = le.fit_transform(new_df['umpire1'])\n",
    "# Create a dictionary mapping original values to encoded values\n",
    "mapping_umpire = dict(zip(copy_df['umpire1'], new_df['umpire1']))"
   ]
  },
  {
   "cell_type": "code",
   "execution_count": 317,
   "id": "cc8c11c1",
   "metadata": {},
   "outputs": [
    {
     "data": {
      "text/html": [
       "<div>\n",
       "<style scoped>\n",
       "    .dataframe tbody tr th:only-of-type {\n",
       "        vertical-align: middle;\n",
       "    }\n",
       "\n",
       "    .dataframe tbody tr th {\n",
       "        vertical-align: top;\n",
       "    }\n",
       "\n",
       "    .dataframe thead th {\n",
       "        text-align: right;\n",
       "    }\n",
       "</style>\n",
       "<table border=\"1\" class=\"dataframe\">\n",
       "  <thead>\n",
       "    <tr style=\"text-align: right;\">\n",
       "      <th></th>\n",
       "      <th>id</th>\n",
       "      <th>season</th>\n",
       "      <th>city</th>\n",
       "      <th>team1</th>\n",
       "      <th>team2</th>\n",
       "      <th>toss_winner</th>\n",
       "      <th>toss_decision</th>\n",
       "      <th>winner</th>\n",
       "      <th>player_of_match</th>\n",
       "      <th>venue</th>\n",
       "      <th>umpire1</th>\n",
       "      <th>day_of_year</th>\n",
       "    </tr>\n",
       "  </thead>\n",
       "  <tbody>\n",
       "    <tr>\n",
       "      <th>26</th>\n",
       "      <td>1395702</td>\n",
       "      <td>42</td>\n",
       "      <td>41</td>\n",
       "      <td>2</td>\n",
       "      <td>7</td>\n",
       "      <td>7</td>\n",
       "      <td>1</td>\n",
       "      <td>2</td>\n",
       "      <td>TM Head</td>\n",
       "      <td>55</td>\n",
       "      <td>62</td>\n",
       "      <td>301</td>\n",
       "    </tr>\n",
       "    <tr>\n",
       "      <th>28</th>\n",
       "      <td>1395702</td>\n",
       "      <td>42</td>\n",
       "      <td>82</td>\n",
       "      <td>1</td>\n",
       "      <td>5</td>\n",
       "      <td>5</td>\n",
       "      <td>1</td>\n",
       "      <td>1</td>\n",
       "      <td>RG Sharma</td>\n",
       "      <td>14</td>\n",
       "      <td>7</td>\n",
       "      <td>302</td>\n",
       "    </tr>\n",
       "    <tr>\n",
       "      <th>29</th>\n",
       "      <td>1395702</td>\n",
       "      <td>42</td>\n",
       "      <td>105</td>\n",
       "      <td>4</td>\n",
       "      <td>11</td>\n",
       "      <td>11</td>\n",
       "      <td>1</td>\n",
       "      <td>11</td>\n",
       "      <td>Fazalhaq Farooqi</td>\n",
       "      <td>76</td>\n",
       "      <td>25</td>\n",
       "      <td>303</td>\n",
       "    </tr>\n",
       "    <tr>\n",
       "      <th>30</th>\n",
       "      <td>1395702</td>\n",
       "      <td>42</td>\n",
       "      <td>77</td>\n",
       "      <td>9</td>\n",
       "      <td>6</td>\n",
       "      <td>9</td>\n",
       "      <td>0</td>\n",
       "      <td>6</td>\n",
       "      <td>Fakhar Zaman</td>\n",
       "      <td>41</td>\n",
       "      <td>76</td>\n",
       "      <td>304</td>\n",
       "    </tr>\n",
       "    <tr>\n",
       "      <th>31</th>\n",
       "      <td>1395702</td>\n",
       "      <td>42</td>\n",
       "      <td>105</td>\n",
       "      <td>3</td>\n",
       "      <td>7</td>\n",
       "      <td>7</td>\n",
       "      <td>1</td>\n",
       "      <td>3</td>\n",
       "      <td>HE van der Dussen</td>\n",
       "      <td>76</td>\n",
       "      <td>12</td>\n",
       "      <td>305</td>\n",
       "    </tr>\n",
       "  </tbody>\n",
       "</table>\n",
       "</div>"
      ],
      "text/plain": [
       "         id  season  city  team1  team2  toss_winner  toss_decision  winner  \\\n",
       "26  1395702      42    41      2      7            7              1       2   \n",
       "28  1395702      42    82      1      5            5              1       1   \n",
       "29  1395702      42   105      4     11           11              1      11   \n",
       "30  1395702      42    77      9      6            9              0       6   \n",
       "31  1395702      42   105      3      7            7              1       3   \n",
       "\n",
       "      player_of_match  venue  umpire1  day_of_year  \n",
       "26            TM Head     55       62          301  \n",
       "28          RG Sharma     14        7          302  \n",
       "29   Fazalhaq Farooqi     76       25          303  \n",
       "30       Fakhar Zaman     41       76          304  \n",
       "31  HE van der Dussen     76       12          305  "
      ]
     },
     "execution_count": 317,
     "metadata": {},
     "output_type": "execute_result"
    }
   ],
   "source": [
    "new_df.tail()"
   ]
  },
  {
   "cell_type": "code",
   "execution_count": 318,
   "id": "835d5ba7",
   "metadata": {},
   "outputs": [
    {
     "data": {
      "text/plain": [
       "(1891, 12)"
      ]
     },
     "execution_count": 318,
     "metadata": {},
     "output_type": "execute_result"
    }
   ],
   "source": [
    "new_df.shape"
   ]
  },
  {
   "cell_type": "markdown",
   "id": "6b34a951",
   "metadata": {},
   "source": [
    "## Training model to predict winner of match"
   ]
  },
  {
   "cell_type": "markdown",
   "id": "5ade785c",
   "metadata": {},
   "source": [
    "y which is the winner column is the target variable"
   ]
  },
  {
   "cell_type": "code",
   "execution_count": 319,
   "id": "4e98780c",
   "metadata": {},
   "outputs": [],
   "source": [
    "X = new_df[['season', 'city', 'team1', 'team2', 'toss_winner', 'toss_decision',\n",
    "        'venue', 'umpire1', 'day_of_year']]\n",
    "y = new_df['winner']"
   ]
  },
  {
   "cell_type": "markdown",
   "id": "46acd514",
   "metadata": {},
   "source": [
    "## knn"
   ]
  },
  {
   "cell_type": "markdown",
   "id": "aa149a07",
   "metadata": {},
   "source": [
    "n_neighbors hyperparameter taken as 6, other hyperparameters taken as default values of library"
   ]
  },
  {
   "cell_type": "code",
   "execution_count": 320,
   "id": "656d8c9e",
   "metadata": {},
   "outputs": [],
   "source": [
    "X_train, X_test, y_train, y_test = train_test_split(X, y, test_size=0.20, random_state=42)"
   ]
  },
  {
   "cell_type": "code",
   "execution_count": 321,
   "id": "d5fb8e34",
   "metadata": {},
   "outputs": [
    {
     "data": {
      "text/html": [
       "<style>#sk-container-id-7 {color: black;}#sk-container-id-7 pre{padding: 0;}#sk-container-id-7 div.sk-toggleable {background-color: white;}#sk-container-id-7 label.sk-toggleable__label {cursor: pointer;display: block;width: 100%;margin-bottom: 0;padding: 0.3em;box-sizing: border-box;text-align: center;}#sk-container-id-7 label.sk-toggleable__label-arrow:before {content: \"▸\";float: left;margin-right: 0.25em;color: #696969;}#sk-container-id-7 label.sk-toggleable__label-arrow:hover:before {color: black;}#sk-container-id-7 div.sk-estimator:hover label.sk-toggleable__label-arrow:before {color: black;}#sk-container-id-7 div.sk-toggleable__content {max-height: 0;max-width: 0;overflow: hidden;text-align: left;background-color: #f0f8ff;}#sk-container-id-7 div.sk-toggleable__content pre {margin: 0.2em;color: black;border-radius: 0.25em;background-color: #f0f8ff;}#sk-container-id-7 input.sk-toggleable__control:checked~div.sk-toggleable__content {max-height: 200px;max-width: 100%;overflow: auto;}#sk-container-id-7 input.sk-toggleable__control:checked~label.sk-toggleable__label-arrow:before {content: \"▾\";}#sk-container-id-7 div.sk-estimator input.sk-toggleable__control:checked~label.sk-toggleable__label {background-color: #d4ebff;}#sk-container-id-7 div.sk-label input.sk-toggleable__control:checked~label.sk-toggleable__label {background-color: #d4ebff;}#sk-container-id-7 input.sk-hidden--visually {border: 0;clip: rect(1px 1px 1px 1px);clip: rect(1px, 1px, 1px, 1px);height: 1px;margin: -1px;overflow: hidden;padding: 0;position: absolute;width: 1px;}#sk-container-id-7 div.sk-estimator {font-family: monospace;background-color: #f0f8ff;border: 1px dotted black;border-radius: 0.25em;box-sizing: border-box;margin-bottom: 0.5em;}#sk-container-id-7 div.sk-estimator:hover {background-color: #d4ebff;}#sk-container-id-7 div.sk-parallel-item::after {content: \"\";width: 100%;border-bottom: 1px solid gray;flex-grow: 1;}#sk-container-id-7 div.sk-label:hover label.sk-toggleable__label {background-color: #d4ebff;}#sk-container-id-7 div.sk-serial::before {content: \"\";position: absolute;border-left: 1px solid gray;box-sizing: border-box;top: 0;bottom: 0;left: 50%;z-index: 0;}#sk-container-id-7 div.sk-serial {display: flex;flex-direction: column;align-items: center;background-color: white;padding-right: 0.2em;padding-left: 0.2em;position: relative;}#sk-container-id-7 div.sk-item {position: relative;z-index: 1;}#sk-container-id-7 div.sk-parallel {display: flex;align-items: stretch;justify-content: center;background-color: white;position: relative;}#sk-container-id-7 div.sk-item::before, #sk-container-id-7 div.sk-parallel-item::before {content: \"\";position: absolute;border-left: 1px solid gray;box-sizing: border-box;top: 0;bottom: 0;left: 50%;z-index: -1;}#sk-container-id-7 div.sk-parallel-item {display: flex;flex-direction: column;z-index: 1;position: relative;background-color: white;}#sk-container-id-7 div.sk-parallel-item:first-child::after {align-self: flex-end;width: 50%;}#sk-container-id-7 div.sk-parallel-item:last-child::after {align-self: flex-start;width: 50%;}#sk-container-id-7 div.sk-parallel-item:only-child::after {width: 0;}#sk-container-id-7 div.sk-dashed-wrapped {border: 1px dashed gray;margin: 0 0.4em 0.5em 0.4em;box-sizing: border-box;padding-bottom: 0.4em;background-color: white;}#sk-container-id-7 div.sk-label label {font-family: monospace;font-weight: bold;display: inline-block;line-height: 1.2em;}#sk-container-id-7 div.sk-label-container {text-align: center;}#sk-container-id-7 div.sk-container {/* jupyter's `normalize.less` sets `[hidden] { display: none; }` but bootstrap.min.css set `[hidden] { display: none !important; }` so we also need the `!important` here to be able to override the default hidden behavior on the sphinx rendered scikit-learn.org. See: https://github.com/scikit-learn/scikit-learn/issues/21755 */display: inline-block !important;position: relative;}#sk-container-id-7 div.sk-text-repr-fallback {display: none;}</style><div id=\"sk-container-id-7\" class=\"sk-top-container\"><div class=\"sk-text-repr-fallback\"><pre>KNeighborsClassifier(n_neighbors=6)</pre><b>In a Jupyter environment, please rerun this cell to show the HTML representation or trust the notebook. <br />On GitHub, the HTML representation is unable to render, please try loading this page with nbviewer.org.</b></div><div class=\"sk-container\" hidden><div class=\"sk-item\"><div class=\"sk-estimator sk-toggleable\"><input class=\"sk-toggleable__control sk-hidden--visually\" id=\"sk-estimator-id-7\" type=\"checkbox\" checked><label for=\"sk-estimator-id-7\" class=\"sk-toggleable__label sk-toggleable__label-arrow\">KNeighborsClassifier</label><div class=\"sk-toggleable__content\"><pre>KNeighborsClassifier(n_neighbors=6)</pre></div></div></div></div></div>"
      ],
      "text/plain": [
       "KNeighborsClassifier(n_neighbors=6)"
      ]
     },
     "execution_count": 321,
     "metadata": {},
     "output_type": "execute_result"
    }
   ],
   "source": [
    "neigh = KNeighborsClassifier(n_neighbors=6)\n",
    "neigh.fit(X_train, y_train)"
   ]
  },
  {
   "cell_type": "code",
   "execution_count": 322,
   "id": "3eae2eb9",
   "metadata": {},
   "outputs": [],
   "source": [
    "y_pred = neigh.predict(X_test)"
   ]
  },
  {
   "cell_type": "code",
   "execution_count": 323,
   "id": "2d36e7ad",
   "metadata": {},
   "outputs": [
    {
     "name": "stdout",
     "output_type": "stream",
     "text": [
      "Accuracy:0.2638522427440633\n",
      "Precision:0.26336782107401824\n",
      "Recall:0.2638522427440633\n",
      "f1 score:0.2590502752734971\n"
     ]
    }
   ],
   "source": [
    "print(f\"Accuracy:{accuracy_score(y_test, y_pred)}\")\n",
    "print(f\"Precision:{precision_score(y_test, y_pred, average='weighted')}\")\n",
    "print(f\"Recall:{recall_score(y_test, y_pred, average='weighted')}\")\n",
    "print(f\"f1 score:{f1_score(y_test, y_pred, average='weighted')}\")"
   ]
  },
  {
   "cell_type": "markdown",
   "id": "015aca1a",
   "metadata": {},
   "source": [
    "Applied k fold cross validation to confirm performance metrics"
   ]
  },
  {
   "cell_type": "code",
   "execution_count": 324,
   "id": "e54fb3da",
   "metadata": {},
   "outputs": [
    {
     "name": "stdout",
     "output_type": "stream",
     "text": [
      "Accuracy score of each fold:  [0.18469657 0.21428571 0.20899471 0.26190476 0.2010582 ]\n",
      "Mean accuracy score:  0.2141879912328461\n"
     ]
    }
   ],
   "source": [
    "k_fold = KFold(n_splits = 5, random_state = None) \n",
    "score = cross_val_score(neigh, X, y, cv = k_fold)  \n",
    "  \n",
    "# Calculating mean accuracy score  \n",
    "mean_acc_score = sum(score) / len(score)  \n",
    "   \n",
    "print(\"Accuracy score of each fold: \", score)  \n",
    "print(\"Mean accuracy score: \", mean_acc_score)  "
   ]
  },
  {
   "cell_type": "markdown",
   "id": "344802cf",
   "metadata": {},
   "source": [
    "## naive bayes"
   ]
  },
  {
   "cell_type": "code",
   "execution_count": 325,
   "id": "bece182d",
   "metadata": {},
   "outputs": [
    {
     "data": {
      "text/html": [
       "<style>#sk-container-id-8 {color: black;}#sk-container-id-8 pre{padding: 0;}#sk-container-id-8 div.sk-toggleable {background-color: white;}#sk-container-id-8 label.sk-toggleable__label {cursor: pointer;display: block;width: 100%;margin-bottom: 0;padding: 0.3em;box-sizing: border-box;text-align: center;}#sk-container-id-8 label.sk-toggleable__label-arrow:before {content: \"▸\";float: left;margin-right: 0.25em;color: #696969;}#sk-container-id-8 label.sk-toggleable__label-arrow:hover:before {color: black;}#sk-container-id-8 div.sk-estimator:hover label.sk-toggleable__label-arrow:before {color: black;}#sk-container-id-8 div.sk-toggleable__content {max-height: 0;max-width: 0;overflow: hidden;text-align: left;background-color: #f0f8ff;}#sk-container-id-8 div.sk-toggleable__content pre {margin: 0.2em;color: black;border-radius: 0.25em;background-color: #f0f8ff;}#sk-container-id-8 input.sk-toggleable__control:checked~div.sk-toggleable__content {max-height: 200px;max-width: 100%;overflow: auto;}#sk-container-id-8 input.sk-toggleable__control:checked~label.sk-toggleable__label-arrow:before {content: \"▾\";}#sk-container-id-8 div.sk-estimator input.sk-toggleable__control:checked~label.sk-toggleable__label {background-color: #d4ebff;}#sk-container-id-8 div.sk-label input.sk-toggleable__control:checked~label.sk-toggleable__label {background-color: #d4ebff;}#sk-container-id-8 input.sk-hidden--visually {border: 0;clip: rect(1px 1px 1px 1px);clip: rect(1px, 1px, 1px, 1px);height: 1px;margin: -1px;overflow: hidden;padding: 0;position: absolute;width: 1px;}#sk-container-id-8 div.sk-estimator {font-family: monospace;background-color: #f0f8ff;border: 1px dotted black;border-radius: 0.25em;box-sizing: border-box;margin-bottom: 0.5em;}#sk-container-id-8 div.sk-estimator:hover {background-color: #d4ebff;}#sk-container-id-8 div.sk-parallel-item::after {content: \"\";width: 100%;border-bottom: 1px solid gray;flex-grow: 1;}#sk-container-id-8 div.sk-label:hover label.sk-toggleable__label {background-color: #d4ebff;}#sk-container-id-8 div.sk-serial::before {content: \"\";position: absolute;border-left: 1px solid gray;box-sizing: border-box;top: 0;bottom: 0;left: 50%;z-index: 0;}#sk-container-id-8 div.sk-serial {display: flex;flex-direction: column;align-items: center;background-color: white;padding-right: 0.2em;padding-left: 0.2em;position: relative;}#sk-container-id-8 div.sk-item {position: relative;z-index: 1;}#sk-container-id-8 div.sk-parallel {display: flex;align-items: stretch;justify-content: center;background-color: white;position: relative;}#sk-container-id-8 div.sk-item::before, #sk-container-id-8 div.sk-parallel-item::before {content: \"\";position: absolute;border-left: 1px solid gray;box-sizing: border-box;top: 0;bottom: 0;left: 50%;z-index: -1;}#sk-container-id-8 div.sk-parallel-item {display: flex;flex-direction: column;z-index: 1;position: relative;background-color: white;}#sk-container-id-8 div.sk-parallel-item:first-child::after {align-self: flex-end;width: 50%;}#sk-container-id-8 div.sk-parallel-item:last-child::after {align-self: flex-start;width: 50%;}#sk-container-id-8 div.sk-parallel-item:only-child::after {width: 0;}#sk-container-id-8 div.sk-dashed-wrapped {border: 1px dashed gray;margin: 0 0.4em 0.5em 0.4em;box-sizing: border-box;padding-bottom: 0.4em;background-color: white;}#sk-container-id-8 div.sk-label label {font-family: monospace;font-weight: bold;display: inline-block;line-height: 1.2em;}#sk-container-id-8 div.sk-label-container {text-align: center;}#sk-container-id-8 div.sk-container {/* jupyter's `normalize.less` sets `[hidden] { display: none; }` but bootstrap.min.css set `[hidden] { display: none !important; }` so we also need the `!important` here to be able to override the default hidden behavior on the sphinx rendered scikit-learn.org. See: https://github.com/scikit-learn/scikit-learn/issues/21755 */display: inline-block !important;position: relative;}#sk-container-id-8 div.sk-text-repr-fallback {display: none;}</style><div id=\"sk-container-id-8\" class=\"sk-top-container\"><div class=\"sk-text-repr-fallback\"><pre>CategoricalNB()</pre><b>In a Jupyter environment, please rerun this cell to show the HTML representation or trust the notebook. <br />On GitHub, the HTML representation is unable to render, please try loading this page with nbviewer.org.</b></div><div class=\"sk-container\" hidden><div class=\"sk-item\"><div class=\"sk-estimator sk-toggleable\"><input class=\"sk-toggleable__control sk-hidden--visually\" id=\"sk-estimator-id-8\" type=\"checkbox\" checked><label for=\"sk-estimator-id-8\" class=\"sk-toggleable__label sk-toggleable__label-arrow\">CategoricalNB</label><div class=\"sk-toggleable__content\"><pre>CategoricalNB()</pre></div></div></div></div></div>"
      ],
      "text/plain": [
       "CategoricalNB()"
      ]
     },
     "execution_count": 325,
     "metadata": {},
     "output_type": "execute_result"
    }
   ],
   "source": [
    "bayes = CategoricalNB()\n",
    "bayes.fit(X_train, y_train)\n"
   ]
  },
  {
   "cell_type": "code",
   "execution_count": 326,
   "id": "d6c8f8f3",
   "metadata": {},
   "outputs": [],
   "source": [
    "y_pred = bayes.predict(X_test)"
   ]
  },
  {
   "cell_type": "code",
   "execution_count": 327,
   "id": "fa2f29f5",
   "metadata": {},
   "outputs": [
    {
     "name": "stdout",
     "output_type": "stream",
     "text": [
      "Accuracy:0.5725593667546174\n",
      "Precision:0.5948567934868707\n",
      "Recall:0.5725593667546174\n",
      "f1 score:0.5761990461266114\n"
     ]
    }
   ],
   "source": [
    "print(f\"Accuracy:{accuracy_score(y_test, y_pred)}\")\n",
    "print(f\"Precision:{precision_score(y_test, y_pred, average='weighted')}\")\n",
    "print(f\"Recall:{recall_score(y_test, y_pred, average='weighted')}\")\n",
    "print(f\"f1 score:{f1_score(y_test, y_pred, average='weighted')}\")"
   ]
  },
  {
   "cell_type": "markdown",
   "id": "b6f024d9",
   "metadata": {},
   "source": [
    "## random forest"
   ]
  },
  {
   "cell_type": "markdown",
   "id": "5383f8dc",
   "metadata": {},
   "source": [
    "max_depth hyperparameter taken as 10, other hyperparameters taken as default values of library"
   ]
  },
  {
   "cell_type": "code",
   "execution_count": 328,
   "id": "c86bb213",
   "metadata": {},
   "outputs": [],
   "source": [
    "forest = RandomForestClassifier(max_depth=10, random_state=0)\n",
    "forest.fit(X_train, y_train)\n",
    "\n",
    "\n",
    "y_pred = forest.predict(X_test)"
   ]
  },
  {
   "cell_type": "code",
   "execution_count": 329,
   "id": "658683f7",
   "metadata": {},
   "outputs": [
    {
     "name": "stdout",
     "output_type": "stream",
     "text": [
      "Accuracy:0.6200527704485488\n",
      "Precision:0.6382601914871178\n",
      "Recall:0.6200527704485488\n",
      "f1 score:0.6077403447367002\n"
     ]
    }
   ],
   "source": [
    "print(f\"Accuracy:{accuracy_score(y_test, y_pred)}\")\n",
    "print(f\"Precision:{precision_score(y_test, y_pred, average='weighted')}\")\n",
    "print(f\"Recall:{recall_score(y_test, y_pred, average='weighted')}\")\n",
    "print(f\"f1 score:{f1_score(y_test, y_pred, average='weighted')}\")"
   ]
  },
  {
   "cell_type": "markdown",
   "id": "108bf79e",
   "metadata": {},
   "source": [
    "Applied k fold cross validation to confirm performance metrics"
   ]
  },
  {
   "cell_type": "code",
   "execution_count": 330,
   "id": "1b2d51d3",
   "metadata": {},
   "outputs": [
    {
     "name": "stdout",
     "output_type": "stream",
     "text": [
      "Accuracy score of each fold:  [0.65435356 0.57671958 0.61375661 0.65873016 0.61375661]\n",
      "Mean accuracy score:  0.623463304993648\n"
     ]
    }
   ],
   "source": [
    "k_fold = KFold(n_splits = 5, random_state = None) \n",
    "score = cross_val_score(forest, X, y, cv = k_fold)  \n",
    "  \n",
    "# Calculating mean accuracy score  \n",
    "mean_acc_score = sum(score) / len(score)  \n",
    "   \n",
    "print(\"Accuracy score of each fold: \", score)  \n",
    "print(\"Mean accuracy score: \", mean_acc_score)  "
   ]
  },
  {
   "cell_type": "markdown",
   "id": "5c42140d",
   "metadata": {},
   "source": [
    "## Using Neural Network"
   ]
  },
  {
   "cell_type": "markdown",
   "id": "71d619cf",
   "metadata": {},
   "source": [
    "The neural network used here is multi layer perceptron provided by sklearn\n",
    "Contains 4 hidden layers "
   ]
  },
  {
   "cell_type": "code",
   "execution_count": 331,
   "id": "cd6f1a96",
   "metadata": {},
   "outputs": [
    {
     "name": "stderr",
     "output_type": "stream",
     "text": [
      "C:\\Users\\dhair\\AppData\\Local\\Programs\\Python\\Python310\\lib\\site-packages\\sklearn\\neural_network\\_multilayer_perceptron.py:691: ConvergenceWarning: Stochastic Optimizer: Maximum iterations (300) reached and the optimization hasn't converged yet.\n",
      "  warnings.warn(\n"
     ]
    }
   ],
   "source": [
    "mlp = MLPClassifier(hidden_layer_sizes=(22,100,100,22),random_state=1, max_iter=300).fit(X_train, y_train)\n",
    "y_pred = mlp.predict(X_test)"
   ]
  },
  {
   "cell_type": "code",
   "execution_count": 332,
   "id": "7398068a",
   "metadata": {},
   "outputs": [
    {
     "data": {
      "text/plain": [
       "0.5866402116402116"
      ]
     },
     "execution_count": 332,
     "metadata": {},
     "output_type": "execute_result"
    }
   ],
   "source": [
    "y_pred2 = mlp.predict(X_train)\n",
    "accuracy_score(y_train, y_pred2)"
   ]
  },
  {
   "cell_type": "code",
   "execution_count": 333,
   "id": "a0918ba6",
   "metadata": {},
   "outputs": [
    {
     "name": "stdout",
     "output_type": "stream",
     "text": [
      "Accuracy:0.2532981530343008\n",
      "Precision:0.2910656920415019\n",
      "Recall:0.2532981530343008\n",
      "f1 score:0.25766107336542987\n"
     ]
    }
   ],
   "source": [
    "print(f\"Accuracy:{accuracy_score(y_test, y_pred)}\")\n",
    "print(f\"Precision:{precision_score(y_test, y_pred, average='weighted')}\")\n",
    "print(f\"Recall:{recall_score(y_test, y_pred, average='weighted')}\")\n",
    "print(f\"f1 score:{f1_score(y_test, y_pred, average='weighted')}\")"
   ]
  },
  {
   "cell_type": "markdown",
   "id": "7f460f90",
   "metadata": {},
   "source": [
    "Applied k fold cross validation to confirm performance metrics"
   ]
  },
  {
   "cell_type": "code",
   "execution_count": 334,
   "id": "3d5b20a5",
   "metadata": {},
   "outputs": [
    {
     "name": "stderr",
     "output_type": "stream",
     "text": [
      "C:\\Users\\dhair\\AppData\\Local\\Programs\\Python\\Python310\\lib\\site-packages\\sklearn\\neural_network\\_multilayer_perceptron.py:691: ConvergenceWarning: Stochastic Optimizer: Maximum iterations (300) reached and the optimization hasn't converged yet.\n",
      "  warnings.warn(\n",
      "C:\\Users\\dhair\\AppData\\Local\\Programs\\Python\\Python310\\lib\\site-packages\\sklearn\\neural_network\\_multilayer_perceptron.py:691: ConvergenceWarning: Stochastic Optimizer: Maximum iterations (300) reached and the optimization hasn't converged yet.\n",
      "  warnings.warn(\n"
     ]
    },
    {
     "name": "stdout",
     "output_type": "stream",
     "text": [
      "Accuracy score of each fold:  [0.17941953 0.23280423 0.26719577 0.23015873 0.1957672 ]\n",
      "Mean accuracy score:  0.22106909019837778\n"
     ]
    }
   ],
   "source": [
    "k_fold = KFold(n_splits = 5, random_state = None) \n",
    "score = cross_val_score(mlp, X, y, cv = k_fold)  \n",
    "  \n",
    "# Calculating mean accuracy score  \n",
    "mean_acc_score = sum(score) / len(score)  \n",
    "   \n",
    "print(\"Accuracy score of each fold: \", score)  \n",
    "print(\"Mean accuracy score: \", mean_acc_score)  "
   ]
  },
  {
   "cell_type": "code",
   "execution_count": 335,
   "id": "9445d8cb",
   "metadata": {},
   "outputs": [
    {
     "data": {
      "text/plain": [
       "Index(['season', 'city', 'team1', 'team2', 'toss_winner', 'toss_decision',\n",
       "       'venue', 'umpire1', 'day_of_year'],\n",
       "      dtype='object')"
      ]
     },
     "execution_count": 335,
     "metadata": {},
     "output_type": "execute_result"
    }
   ],
   "source": [
    "X.columns"
   ]
  },
  {
   "cell_type": "code",
   "execution_count": 336,
   "id": "a7408be4",
   "metadata": {},
   "outputs": [],
   "source": [
    "umpire_list = ['HDPK Dharmasena', 'M Erasmus', 'CB Gaffaney', 'MA Gough', 'AT Holdstock', 'RK Illingworth', 'RA Kettleborough', 'Nitin Menon', 'Ahsan Raza', 'PR Reiffel', 'Sharfuddoula', 'RJ Tucker', 'AG Wharf', 'JS Wilson', 'CM Brown', 'P Wilson']"
   ]
  },
  {
   "cell_type": "code",
   "execution_count": 337,
   "id": "39d777a8",
   "metadata": {},
   "outputs": [],
   "source": [
    "sem_fin1_data = [[mapping_season['2023/24'],mapping_city['Mumbai'],TeamMapping['India'],TeamMapping['New Zealand'],'','',mapping_venue['Wankhede Stadium'],'',319]]\n",
    "sem_fin2_data = [[mapping_season['2023/24'],mapping_city['Kolkata'],TeamMapping['South Africa'],TeamMapping['Australia'],'','',mapping_venue['Eden Gardens'],'',320]]\n",
    "fin_data = [[mapping_season['2023/24'],mapping_city['Ahmedabad'],'','','','',mapping_venue['Narendra Modi Stadium'],'',323]]\n",
    "\n",
    "sem_fin1_df = pd.DataFrame(sem_fin1_data,columns = X.columns)\n",
    "sem_fin2_df = pd.DataFrame(sem_fin2_data,columns = X.columns)\n",
    "fin_df =  pd.DataFrame(fin_data,columns = X.columns)\n",
    "score = pd.DataFrame([[0,0,0,0]],columns = ['India','New Zealand','South Africa','Australia'])\n"
   ]
  },
  {
   "cell_type": "code",
   "execution_count": 338,
   "id": "7843c391",
   "metadata": {},
   "outputs": [
    {
     "data": {
      "text/plain": [
       "[[42, 89, 1, 7, '', '', 156, '', 319]]"
      ]
     },
     "execution_count": 338,
     "metadata": {},
     "output_type": "execute_result"
    }
   ],
   "source": [
    "sem_fin1_data"
   ]
  },
  {
   "cell_type": "code",
   "execution_count": 339,
   "id": "5ac2c7cf",
   "metadata": {},
   "outputs": [
    {
     "data": {
      "text/plain": [
       "[[42, 77, 3, 2, '', '', 41, '', 320]]"
      ]
     },
     "execution_count": 339,
     "metadata": {},
     "output_type": "execute_result"
    }
   ],
   "source": [
    "sem_fin2_data"
   ]
  },
  {
   "cell_type": "markdown",
   "id": "f0caf98f",
   "metadata": {},
   "source": [
    "### Creating dataframe for semi final match , for columns whose values are not available, filling in random values and doing this mutiple times and calculating result"
   ]
  },
  {
   "cell_type": "markdown",
   "id": "7822ad39",
   "metadata": {},
   "source": [
    "### First winners of semi final matches are predicted and the results are plugged in dataframe of final match, prediction on this dataframe is the result, this result is calculated for multiple different situations and the team predicted majority of times as winner, is declared final winner "
   ]
  },
  {
   "cell_type": "markdown",
   "id": "23f53b7e",
   "metadata": {},
   "source": [
    "### predicting world cup 2023 final winner using random forest model"
   ]
  },
  {
   "cell_type": "code",
   "execution_count": 340,
   "id": "0e8c9127",
   "metadata": {},
   "outputs": [
    {
     "name": "stdout",
     "output_type": "stream",
     "text": [
      "Chances of winning out of 100, according to random forest model\n",
      "   India  New Zealand  South Africa  Australia\n",
      "0     91            3             6          0\n"
     ]
    }
   ],
   "source": [
    "import random\n",
    "for i in range(100):\n",
    "    \n",
    "    #semi final 1\n",
    "    if random.randrange(2):\n",
    "        sem_fin1_df['toss_winner'] = sem_fin1_df['team1']\n",
    "    else:\n",
    "        sem_fin1_df['toss_winner'] = sem_fin1_df['team2']\n",
    "        \n",
    "    sem_fin1_df['toss_decision'] = random.randrange(2)\n",
    "    sem_fin1_df['umpire1'] = mapping_umpire[umpire_list[random.randrange(16)]]\n",
    "    \n",
    "    #semi final 2\n",
    "    if random.randrange(2):\n",
    "        sem_fin2_df['toss_winner'] = sem_fin2_df['team1']\n",
    "    else:\n",
    "        sem_fin2_df['toss_winner'] = sem_fin2_df['team2']\n",
    "        \n",
    "    sem_fin2_df['toss_decision'] = random.randrange(2)\n",
    "    sem_fin2_df['umpire1'] = mapping_umpire[umpire_list[random.randrange(16)]]\n",
    "    \n",
    "    sem_fin_pred1 = forest.predict(sem_fin1_df)\n",
    "    sem_fin_pred2 = forest.predict(sem_fin2_df)\n",
    "    \n",
    "    #finals\n",
    "    fin_df['team1'] =  sem_fin_pred1\n",
    "    fin_df['team2'] =  sem_fin_pred2\n",
    "    \n",
    "    if random.randrange(2):\n",
    "        fin_df['toss_winner'] = fin_df['team1']\n",
    "    else:\n",
    "        fin_df['toss_winner'] = fin_df['team2']\n",
    "        \n",
    "    fin_df['toss_decision'] = random.randrange(2)\n",
    "    fin_df['umpire1'] = mapping_umpire[umpire_list[random.randrange(16)]]\n",
    "    \n",
    "    #finals result\n",
    "    fin_pred = forest.predict(fin_df)\n",
    "    \n",
    "    if fin_pred == 1 : score['India']+=1\n",
    "    elif fin_pred == 3  : score['South Africa']+=1\n",
    "    elif fin_pred == 7  : score['New Zealand']+=1\n",
    "    else : score['Australia']+=1    \n",
    "    \n",
    "print(\"Chances of winning out of 100, according to random forest model\")   \n",
    "print(score)"
   ]
  },
  {
   "cell_type": "code",
   "execution_count": 341,
   "id": "43785c74",
   "metadata": {},
   "outputs": [
    {
     "name": "stdout",
     "output_type": "stream",
     "text": [
      "Chances of winning out of 100, according to random forest model\n",
      "   India  New Zealand  South Africa  Australia\n",
      "0     91            3             6          0\n"
     ]
    }
   ],
   "source": [
    "print(\"Chances of winning out of 100, according to random forest model\")   \n",
    "print(score)\n",
    "\n",
    "score = dict.fromkeys(score, 0)"
   ]
  },
  {
   "cell_type": "markdown",
   "id": "aac967a2",
   "metadata": {},
   "source": [
    "### predicting world cup 2023 final winner using neural network model"
   ]
  },
  {
   "cell_type": "code",
   "execution_count": 342,
   "id": "62bd270e",
   "metadata": {},
   "outputs": [
    {
     "name": "stdout",
     "output_type": "stream",
     "text": [
      "Chances of winning out of 100, according to neural network model\n",
      "{'India': 82, 'New Zealand': 0, 'South Africa': 0, 'Australia': 18}\n"
     ]
    }
   ],
   "source": [
    "import random\n",
    "for i in range(100):\n",
    "    \n",
    "    #semi final 1\n",
    "    if random.randrange(2):\n",
    "        sem_fin1_df['toss_winner'] = sem_fin1_df['team1']\n",
    "    else:\n",
    "        sem_fin1_df['toss_winner'] = sem_fin1_df['team2']\n",
    "        \n",
    "    sem_fin1_df['toss_decision'] = random.randrange(2)\n",
    "    sem_fin1_df['umpire1'] = mapping_umpire[umpire_list[random.randrange(16)]]\n",
    "    \n",
    "    #semi final 2\n",
    "    if random.randrange(2):\n",
    "        sem_fin2_df['toss_winner'] = sem_fin2_df['team1']\n",
    "    else:\n",
    "        sem_fin2_df['toss_winner'] = sem_fin2_df['team2']\n",
    "        \n",
    "    sem_fin2_df['toss_decision'] = random.randrange(2)\n",
    "    sem_fin2_df['umpire1'] = mapping_umpire[umpire_list[random.randrange(16)]]\n",
    "    \n",
    "    sem_fin_pred1 = mlp.predict(sem_fin1_df)\n",
    "    sem_fin_pred2 = mlp.predict(sem_fin2_df)\n",
    "    \n",
    "    #finals\n",
    "    fin_df['team1'] =  sem_fin_pred1\n",
    "    fin_df['team2'] =  sem_fin_pred2\n",
    "    \n",
    "    if random.randrange(2):\n",
    "        fin_df['toss_winner'] = fin_df['team1']\n",
    "    else:\n",
    "        fin_df['toss_winner'] = fin_df['team2']\n",
    "        \n",
    "    fin_df['toss_decision'] = random.randrange(2)\n",
    "    fin_df['umpire1'] = mapping_umpire[umpire_list[random.randrange(16)]]\n",
    "    \n",
    "    #finals result\n",
    "    fin_pred = mlp.predict(fin_df)\n",
    "    \n",
    "    if fin_pred == 1 : score['India']+=1\n",
    "    elif fin_pred == 3  : score['South Africa']+=1\n",
    "    elif fin_pred == 7  : score['New Zealand']+=1\n",
    "    else : score['Australia']+=1    \n",
    "    \n",
    "print(\"Chances of winning out of 100, according to neural network model\")   \n",
    "print(score)"
   ]
  },
  {
   "cell_type": "code",
   "execution_count": 343,
   "id": "f27c875d",
   "metadata": {},
   "outputs": [
    {
     "name": "stdout",
     "output_type": "stream",
     "text": [
      "Chances of winning out of 100, according to neural network model\n",
      "{'India': 82, 'New Zealand': 0, 'South Africa': 0, 'Australia': 18}\n"
     ]
    }
   ],
   "source": [
    "print(\"Chances of winning out of 100, according to neural network model\")   \n",
    "print(score)\n",
    "\n",
    "score = dict.fromkeys(score, 0)"
   ]
  },
  {
   "cell_type": "code",
   "execution_count": null,
   "id": "de9bdf6e",
   "metadata": {},
   "outputs": [],
   "source": []
  },
  {
   "cell_type": "markdown",
   "id": "b6606045",
   "metadata": {},
   "source": [
    "## Task1: \n",
    "### Predicting player of match"
   ]
  },
  {
   "cell_type": "code",
   "execution_count": 344,
   "id": "7a46efef",
   "metadata": {
    "scrolled": true
   },
   "outputs": [
    {
     "data": {
      "text/html": [
       "<div>\n",
       "<style scoped>\n",
       "    .dataframe tbody tr th:only-of-type {\n",
       "        vertical-align: middle;\n",
       "    }\n",
       "\n",
       "    .dataframe tbody tr th {\n",
       "        vertical-align: top;\n",
       "    }\n",
       "\n",
       "    .dataframe thead th {\n",
       "        text-align: right;\n",
       "    }\n",
       "</style>\n",
       "<table border=\"1\" class=\"dataframe\">\n",
       "  <thead>\n",
       "    <tr style=\"text-align: right;\">\n",
       "      <th></th>\n",
       "      <th>id</th>\n",
       "      <th>season</th>\n",
       "      <th>city</th>\n",
       "      <th>team1</th>\n",
       "      <th>team2</th>\n",
       "      <th>toss_winner</th>\n",
       "      <th>toss_decision</th>\n",
       "      <th>winner</th>\n",
       "      <th>player_of_match</th>\n",
       "      <th>venue</th>\n",
       "      <th>umpire1</th>\n",
       "      <th>day_of_year</th>\n",
       "    </tr>\n",
       "  </thead>\n",
       "  <tbody>\n",
       "    <tr>\n",
       "      <th>0</th>\n",
       "      <td>1389389</td>\n",
       "      <td>42</td>\n",
       "      <td>64</td>\n",
       "      <td>1</td>\n",
       "      <td>2</td>\n",
       "      <td>2</td>\n",
       "      <td>1</td>\n",
       "      <td>1</td>\n",
       "      <td>SS Iyer</td>\n",
       "      <td>56</td>\n",
       "      <td>50</td>\n",
       "      <td>267</td>\n",
       "    </tr>\n",
       "    <tr>\n",
       "      <th>1</th>\n",
       "      <td>1336129</td>\n",
       "      <td>41</td>\n",
       "      <td>96</td>\n",
       "      <td>5</td>\n",
       "      <td>12</td>\n",
       "      <td>12</td>\n",
       "      <td>1</td>\n",
       "      <td>5</td>\n",
       "      <td>WG Jacks</td>\n",
       "      <td>149</td>\n",
       "      <td>31</td>\n",
       "      <td>266</td>\n",
       "    </tr>\n",
       "    <tr>\n",
       "      <th>2</th>\n",
       "      <td>1395701</td>\n",
       "      <td>41</td>\n",
       "      <td>40</td>\n",
       "      <td>7</td>\n",
       "      <td>9</td>\n",
       "      <td>7</td>\n",
       "      <td>0</td>\n",
       "      <td>7</td>\n",
       "      <td>IS Sodhi</td>\n",
       "      <td>133</td>\n",
       "      <td>62</td>\n",
       "      <td>266</td>\n",
       "    </tr>\n",
       "    <tr>\n",
       "      <th>3</th>\n",
       "      <td>1389388</td>\n",
       "      <td>42</td>\n",
       "      <td>27</td>\n",
       "      <td>2</td>\n",
       "      <td>1</td>\n",
       "      <td>1</td>\n",
       "      <td>1</td>\n",
       "      <td>1</td>\n",
       "      <td>Mohammed Shami</td>\n",
       "      <td>100</td>\n",
       "      <td>57</td>\n",
       "      <td>265</td>\n",
       "    </tr>\n",
       "    <tr>\n",
       "      <th>5</th>\n",
       "      <td>1388414</td>\n",
       "      <td>41</td>\n",
       "      <td>34</td>\n",
       "      <td>4</td>\n",
       "      <td>1</td>\n",
       "      <td>4</td>\n",
       "      <td>0</td>\n",
       "      <td>1</td>\n",
       "      <td>Mohammed Siraj</td>\n",
       "      <td>106</td>\n",
       "      <td>10</td>\n",
       "      <td>260</td>\n",
       "    </tr>\n",
       "  </tbody>\n",
       "</table>\n",
       "</div>"
      ],
      "text/plain": [
       "        id  season  city  team1  team2  toss_winner  toss_decision  winner  \\\n",
       "0  1389389      42    64      1      2            2              1       1   \n",
       "1  1336129      41    96      5     12           12              1       5   \n",
       "2  1395701      41    40      7      9            7              0       7   \n",
       "3  1389388      42    27      2      1            1              1       1   \n",
       "5  1388414      41    34      4      1            4              0       1   \n",
       "\n",
       "  player_of_match  venue  umpire1  day_of_year  \n",
       "0         SS Iyer     56       50          267  \n",
       "1        WG Jacks    149       31          266  \n",
       "2        IS Sodhi    133       62          266  \n",
       "3  Mohammed Shami    100       57          265  \n",
       "5  Mohammed Siraj    106       10          260  "
      ]
     },
     "execution_count": 344,
     "metadata": {},
     "output_type": "execute_result"
    }
   ],
   "source": [
    "new_df.head()"
   ]
  },
  {
   "cell_type": "markdown",
   "id": "02c47881",
   "metadata": {},
   "source": [
    "## Handling null values"
   ]
  },
  {
   "cell_type": "code",
   "execution_count": 345,
   "id": "f5aca8bd",
   "metadata": {
    "scrolled": true
   },
   "outputs": [
    {
     "data": {
      "text/plain": [
       "id                  0\n",
       "season              0\n",
       "city                0\n",
       "team1               0\n",
       "team2               0\n",
       "toss_winner         0\n",
       "toss_decision       0\n",
       "winner              0\n",
       "player_of_match    18\n",
       "venue               0\n",
       "umpire1             0\n",
       "day_of_year         0\n",
       "dtype: int64"
      ]
     },
     "execution_count": 345,
     "metadata": {},
     "output_type": "execute_result"
    }
   ],
   "source": [
    "new_df.isna().sum()"
   ]
  },
  {
   "cell_type": "markdown",
   "id": "c96c524a",
   "metadata": {},
   "source": [
    "Dropping rows where player of match data not available"
   ]
  },
  {
   "cell_type": "code",
   "execution_count": 346,
   "id": "e27fd9c6",
   "metadata": {},
   "outputs": [],
   "source": [
    "new_df = new_df.dropna(axis = 0,subset=['player_of_match'])\n",
    "copy_df = copy_df.dropna(axis = 0,subset=['player_of_match'])"
   ]
  },
  {
   "cell_type": "markdown",
   "id": "e7e477af",
   "metadata": {},
   "source": [
    "id column that is used for identification of row will not be helpful for prediction hence removing it"
   ]
  },
  {
   "cell_type": "code",
   "execution_count": 347,
   "id": "30760e16",
   "metadata": {},
   "outputs": [],
   "source": [
    "new_df = new_df.drop(['id'], axis=1)"
   ]
  },
  {
   "cell_type": "code",
   "execution_count": 348,
   "id": "4384ea6c",
   "metadata": {},
   "outputs": [],
   "source": [
    "new_df['player_of_match'] = le.fit_transform(new_df['player_of_match'])\n",
    "# Create a dictionary mapping original values to encoded values\n",
    "mapping_player = dict(zip(copy_df['player_of_match'], new_df['player_of_match']))"
   ]
  },
  {
   "cell_type": "code",
   "execution_count": 349,
   "id": "2276b80b",
   "metadata": {},
   "outputs": [
    {
     "data": {
      "text/plain": [
       "493"
      ]
     },
     "execution_count": 349,
     "metadata": {},
     "output_type": "execute_result"
    }
   ],
   "source": [
    "len(mapping_player)"
   ]
  },
  {
   "cell_type": "markdown",
   "id": "1c75495e",
   "metadata": {},
   "source": [
    "## Data transformation"
   ]
  },
  {
   "cell_type": "markdown",
   "id": "d3cab424",
   "metadata": {},
   "source": [
    "Splitting dataframe into target column and other columns,\n",
    "and then further splitting into train and test"
   ]
  },
  {
   "cell_type": "code",
   "execution_count": 350,
   "id": "ccc9ca2f",
   "metadata": {},
   "outputs": [],
   "source": [
    "X = new_df[['season', 'city', 'team1', 'team2', 'toss_winner', 'toss_decision','winner',\n",
    "        'venue', 'umpire1', 'day_of_year']]\n",
    "y = new_df['player_of_match']\n",
    "\n",
    "\n",
    "Xtrain, Xtest, ytrain, ytest = train_test_split(X, y, test_size=0.20, random_state=42)"
   ]
  },
  {
   "cell_type": "markdown",
   "id": "6c87de86",
   "metadata": {},
   "source": [
    "converting pandas dataframe to numpy as keras only takes numpy input"
   ]
  },
  {
   "cell_type": "code",
   "execution_count": 351,
   "id": "d3b501cf",
   "metadata": {},
   "outputs": [],
   "source": [
    "np_Xtrain = Xtrain.to_numpy(dtype='float32')\n",
    "np_ytrain = ytrain.to_numpy(dtype='float32')\n",
    "np_Xtest = Xtest.to_numpy(dtype='float32')\n",
    "np_ytest = ytest.to_numpy(dtype='float32')"
   ]
  },
  {
   "cell_type": "code",
   "execution_count": 352,
   "id": "92a7a70b",
   "metadata": {
    "scrolled": false
   },
   "outputs": [
    {
     "data": {
      "text/plain": [
       "(array([[ 33.,  31.,   3., ..., 113.,  92., 179.],\n",
       "        [ 14.,  85.,   2., ...,  83.,  17.,  38.],\n",
       "        [ 19.,  59.,   4., ...,  77.,  19., 206.],\n",
       "        ...,\n",
       "        [ 21.,  20.,  10., ..., 104., 110., 213.],\n",
       "        [  9.,  86.,   9., ..., 133.,  36., 130.],\n",
       "        [ 16.,  56.,   1., ...,  90.,  73., 332.]], dtype=float32),\n",
       " array([ 92., 414., 327., ..., 286., 293., 468.], dtype=float32))"
      ]
     },
     "execution_count": 352,
     "metadata": {},
     "output_type": "execute_result"
    }
   ],
   "source": [
    "np_Xtrain, np_ytrain"
   ]
  },
  {
   "cell_type": "markdown",
   "id": "6471a20d",
   "metadata": {},
   "source": [
    "Performing **One hot encoding** on target data , as it is required for classification"
   ]
  },
  {
   "cell_type": "code",
   "execution_count": 353,
   "id": "3ef11cda",
   "metadata": {},
   "outputs": [],
   "source": [
    "np_y = np.array([])\n",
    "np_y = np.append(np_ytrain,np_ytest,axis=0)\n",
    "np_y = to_categorical(np_y)\n"
   ]
  },
  {
   "cell_type": "code",
   "execution_count": 354,
   "id": "9cb679e3",
   "metadata": {},
   "outputs": [],
   "source": [
    "np_ytrain = np_y[:1498,]\n",
    "np_ytest = np_y[1498:,]"
   ]
  },
  {
   "cell_type": "code",
   "execution_count": 355,
   "id": "1ea6ae86",
   "metadata": {
    "scrolled": true
   },
   "outputs": [
    {
     "data": {
      "text/plain": [
       "((1498, 493), (375, 493))"
      ]
     },
     "execution_count": 355,
     "metadata": {},
     "output_type": "execute_result"
    }
   ],
   "source": [
    "np_ytrain.shape, np_ytest.shape"
   ]
  },
  {
   "cell_type": "markdown",
   "id": "4ebf4251",
   "metadata": {},
   "source": [
    "Applying Normalization on data"
   ]
  },
  {
   "cell_type": "code",
   "execution_count": 356,
   "id": "cb8ce569",
   "metadata": {},
   "outputs": [],
   "source": [
    "mean = np.mean(np_Xtrain, axis=0)\n",
    "np_Xtrain -= mean\n",
    "np_Xtest -= mean\n",
    "std = np.std(np_Xtrain, axis=0)\n",
    "np_Xtrain /= std\n",
    "np_Xtest /= std"
   ]
  },
  {
   "cell_type": "code",
   "execution_count": 357,
   "id": "1d534b47",
   "metadata": {},
   "outputs": [
    {
     "data": {
      "text/plain": [
       "(10, 493)"
      ]
     },
     "execution_count": 357,
     "metadata": {},
     "output_type": "execute_result"
    }
   ],
   "source": [
    "np_Xtrain.shape[-1], np_ytrain.shape[-1]"
   ]
  },
  {
   "cell_type": "markdown",
   "id": "d3d072b9",
   "metadata": {},
   "source": [
    "Initializing neural network,\n",
    "initializing number of hidden layers and number of neurons in each layer"
   ]
  },
  {
   "cell_type": "code",
   "execution_count": 358,
   "id": "b0a077ab",
   "metadata": {
    "scrolled": true
   },
   "outputs": [
    {
     "name": "stdout",
     "output_type": "stream",
     "text": [
      "Model: \"sequential_3\"\n",
      "_________________________________________________________________\n",
      " Layer (type)                Output Shape              Param #   \n",
      "=================================================================\n",
      " dense_12 (Dense)            (None, 128)               1408      \n",
      "                                                                 \n",
      " dense_13 (Dense)            (None, 128)               16512     \n",
      "                                                                 \n",
      " dense_14 (Dense)            (None, 128)               16512     \n",
      "                                                                 \n",
      " dense_15 (Dense)            (None, 493)               63597     \n",
      "                                                                 \n",
      "=================================================================\n",
      "Total params: 98,029\n",
      "Trainable params: 98,029\n",
      "Non-trainable params: 0\n",
      "_________________________________________________________________\n"
     ]
    }
   ],
   "source": [
    "model = keras.Sequential(\n",
    "    [\n",
    "        keras.layers.Dense(\n",
    "            128, activation=\"relu\", input_shape=(np_Xtrain.shape[-1],)\n",
    "        ),\n",
    "        keras.layers.Dense(128, activation=\"relu\"),\n",
    "        keras.layers.Dense(128, activation=\"relu\"),\n",
    "        keras.layers.Dense(493, activation=\"softmax\"),\n",
    "    ]\n",
    ")\n",
    "model.summary()"
   ]
  },
  {
   "cell_type": "markdown",
   "id": "e57a3172",
   "metadata": {},
   "source": [
    "Using Adamprop optimizer and categorical cross entropy loss"
   ]
  },
  {
   "cell_type": "code",
   "execution_count": 359,
   "id": "d5d53498",
   "metadata": {},
   "outputs": [],
   "source": [
    "metrics = [\n",
    "    keras.metrics.FalseNegatives(name=\"fn\"),\n",
    "    keras.metrics.FalsePositives(name=\"fp\"),\n",
    "    keras.metrics.TrueNegatives(name=\"tn\"),\n",
    "    keras.metrics.TruePositives(name=\"tp\"),\n",
    "    keras.metrics.Precision(name=\"precision\"),\n",
    "    keras.metrics.Recall(name=\"recall\"),\n",
    "]\n",
    "\n",
    "model.compile(\n",
    "    optimizer=keras.optimizers.Adam(1e-2), loss=\"categorical_crossentropy\", metrics=metrics\n",
    ")"
   ]
  },
  {
   "cell_type": "code",
   "execution_count": 360,
   "id": "ec6135c2",
   "metadata": {},
   "outputs": [
    {
     "data": {
      "text/plain": [
       "((1498, 10), (1498, 493), (375, 10), (375, 493))"
      ]
     },
     "execution_count": 360,
     "metadata": {},
     "output_type": "execute_result"
    }
   ],
   "source": [
    "np_Xtrain.shape,np_ytrain.shape,np_Xtest.shape, np_ytest.shape"
   ]
  },
  {
   "cell_type": "markdown",
   "id": "4a7d0fcf",
   "metadata": {},
   "source": [
    "Training the model"
   ]
  },
  {
   "cell_type": "code",
   "execution_count": 361,
   "id": "61384090",
   "metadata": {
    "scrolled": false
   },
   "outputs": [
    {
     "name": "stdout",
     "output_type": "stream",
     "text": [
      "Epoch 1/80\n",
      "47/47 - 2s - loss: 5.9405 - fn: 1498.0000 - fp: 0.0000e+00 - tn: 737016.0000 - tp: 0.0000e+00 - precision: 0.0000e+00 - recall: 0.0000e+00 - val_loss: 5.7166 - val_fn: 375.0000 - val_fp: 0.0000e+00 - val_tn: 184500.0000 - val_tp: 0.0000e+00 - val_precision: 0.0000e+00 - val_recall: 0.0000e+00 - 2s/epoch - 51ms/step\n",
      "Epoch 2/80\n",
      "47/47 - 0s - loss: 5.1236 - fn: 1498.0000 - fp: 0.0000e+00 - tn: 737016.0000 - tp: 0.0000e+00 - precision: 0.0000e+00 - recall: 0.0000e+00 - val_loss: 5.6017 - val_fn: 375.0000 - val_fp: 0.0000e+00 - val_tn: 184500.0000 - val_tp: 0.0000e+00 - val_precision: 0.0000e+00 - val_recall: 0.0000e+00 - 272ms/epoch - 6ms/step\n",
      "Epoch 3/80\n",
      "47/47 - 0s - loss: 4.5765 - fn: 1498.0000 - fp: 0.0000e+00 - tn: 737016.0000 - tp: 0.0000e+00 - precision: 0.0000e+00 - recall: 0.0000e+00 - val_loss: 5.4442 - val_fn: 375.0000 - val_fp: 0.0000e+00 - val_tn: 184500.0000 - val_tp: 0.0000e+00 - val_precision: 0.0000e+00 - val_recall: 0.0000e+00 - 277ms/epoch - 6ms/step\n",
      "Epoch 4/80\n",
      "47/47 - 0s - loss: 4.1239 - fn: 1495.0000 - fp: 3.0000 - tn: 737013.0000 - tp: 3.0000 - precision: 0.5000 - recall: 0.0020 - val_loss: 5.5136 - val_fn: 375.0000 - val_fp: 0.0000e+00 - val_tn: 184500.0000 - val_tp: 0.0000e+00 - val_precision: 0.0000e+00 - val_recall: 0.0000e+00 - 281ms/epoch - 6ms/step\n",
      "Epoch 5/80\n",
      "47/47 - 0s - loss: 3.7826 - fn: 1494.0000 - fp: 6.0000 - tn: 737010.0000 - tp: 4.0000 - precision: 0.4000 - recall: 0.0027 - val_loss: 5.6958 - val_fn: 374.0000 - val_fp: 0.0000e+00 - val_tn: 184500.0000 - val_tp: 1.0000 - val_precision: 1.0000 - val_recall: 0.0027 - 281ms/epoch - 6ms/step\n",
      "Epoch 6/80\n",
      "47/47 - 0s - loss: 3.4923 - fn: 1485.0000 - fp: 24.0000 - tn: 736992.0000 - tp: 13.0000 - precision: 0.3514 - recall: 0.0087 - val_loss: 6.0482 - val_fn: 374.0000 - val_fp: 2.0000 - val_tn: 184498.0000 - val_tp: 1.0000 - val_precision: 0.3333 - val_recall: 0.0027 - 274ms/epoch - 6ms/step\n",
      "Epoch 7/80\n",
      "47/47 - 0s - loss: 3.2425 - fn: 1476.0000 - fp: 44.0000 - tn: 736972.0000 - tp: 22.0000 - precision: 0.3333 - recall: 0.0147 - val_loss: 6.6146 - val_fn: 373.0000 - val_fp: 9.0000 - val_tn: 184491.0000 - val_tp: 2.0000 - val_precision: 0.1818 - val_recall: 0.0053 - 274ms/epoch - 6ms/step\n",
      "Epoch 8/80\n",
      "47/47 - 0s - loss: 2.9979 - fn: 1451.0000 - fp: 67.0000 - tn: 736949.0000 - tp: 47.0000 - precision: 0.4123 - recall: 0.0314 - val_loss: 6.7315 - val_fn: 374.0000 - val_fp: 13.0000 - val_tn: 184487.0000 - val_tp: 1.0000 - val_precision: 0.0714 - val_recall: 0.0027 - 279ms/epoch - 6ms/step\n",
      "Epoch 9/80\n",
      "47/47 - 0s - loss: 2.7336 - fn: 1429.0000 - fp: 85.0000 - tn: 736931.0000 - tp: 69.0000 - precision: 0.4481 - recall: 0.0461 - val_loss: 7.6002 - val_fn: 368.0000 - val_fp: 39.0000 - val_tn: 184461.0000 - val_tp: 7.0000 - val_precision: 0.1522 - val_recall: 0.0187 - 275ms/epoch - 6ms/step\n",
      "Epoch 10/80\n",
      "47/47 - 0s - loss: 2.5910 - fn: 1365.0000 - fp: 113.0000 - tn: 736903.0000 - tp: 133.0000 - precision: 0.5407 - recall: 0.0888 - val_loss: 7.6951 - val_fn: 371.0000 - val_fp: 34.0000 - val_tn: 184466.0000 - val_tp: 4.0000 - val_precision: 0.1053 - val_recall: 0.0107 - 277ms/epoch - 6ms/step\n",
      "Epoch 11/80\n",
      "47/47 - 0s - loss: 2.4405 - fn: 1342.0000 - fp: 161.0000 - tn: 736855.0000 - tp: 156.0000 - precision: 0.4921 - recall: 0.1041 - val_loss: 8.1866 - val_fn: 368.0000 - val_fp: 36.0000 - val_tn: 184464.0000 - val_tp: 7.0000 - val_precision: 0.1628 - val_recall: 0.0187 - 280ms/epoch - 6ms/step\n",
      "Epoch 12/80\n",
      "47/47 - 0s - loss: 2.2573 - fn: 1287.0000 - fp: 163.0000 - tn: 736853.0000 - tp: 211.0000 - precision: 0.5642 - recall: 0.1409 - val_loss: 9.0007 - val_fn: 365.0000 - val_fp: 78.0000 - val_tn: 184422.0000 - val_tp: 10.0000 - val_precision: 0.1136 - val_recall: 0.0267 - 272ms/epoch - 6ms/step\n",
      "Epoch 13/80\n",
      "47/47 - 0s - loss: 2.0999 - fn: 1228.0000 - fp: 228.0000 - tn: 736788.0000 - tp: 270.0000 - precision: 0.5422 - recall: 0.1802 - val_loss: 9.0676 - val_fn: 364.0000 - val_fp: 78.0000 - val_tn: 184422.0000 - val_tp: 11.0000 - val_precision: 0.1236 - val_recall: 0.0293 - 276ms/epoch - 6ms/step\n",
      "Epoch 14/80\n",
      "47/47 - 0s - loss: 1.8730 - fn: 1154.0000 - fp: 223.0000 - tn: 736793.0000 - tp: 344.0000 - precision: 0.6067 - recall: 0.2296 - val_loss: 10.0804 - val_fn: 367.0000 - val_fp: 107.0000 - val_tn: 184393.0000 - val_tp: 8.0000 - val_precision: 0.0696 - val_recall: 0.0213 - 270ms/epoch - 6ms/step\n",
      "Epoch 15/80\n",
      "47/47 - 0s - loss: 1.8830 - fn: 1111.0000 - fp: 252.0000 - tn: 736764.0000 - tp: 387.0000 - precision: 0.6056 - recall: 0.2583 - val_loss: 10.0188 - val_fn: 363.0000 - val_fp: 100.0000 - val_tn: 184400.0000 - val_tp: 12.0000 - val_precision: 0.1071 - val_recall: 0.0320 - 276ms/epoch - 6ms/step\n",
      "Epoch 16/80\n",
      "47/47 - 0s - loss: 1.7728 - fn: 1068.0000 - fp: 248.0000 - tn: 736768.0000 - tp: 430.0000 - precision: 0.6342 - recall: 0.2870 - val_loss: 10.9464 - val_fn: 365.0000 - val_fp: 127.0000 - val_tn: 184373.0000 - val_tp: 10.0000 - val_precision: 0.0730 - val_recall: 0.0267 - 276ms/epoch - 6ms/step\n",
      "Epoch 17/80\n",
      "47/47 - 0s - loss: 1.7617 - fn: 1054.0000 - fp: 263.0000 - tn: 736753.0000 - tp: 444.0000 - precision: 0.6280 - recall: 0.2964 - val_loss: 10.5124 - val_fn: 362.0000 - val_fp: 117.0000 - val_tn: 184383.0000 - val_tp: 13.0000 - val_precision: 0.1000 - val_recall: 0.0347 - 280ms/epoch - 6ms/step\n",
      "Epoch 18/80\n",
      "47/47 - 0s - loss: 1.6706 - fn: 1024.0000 - fp: 270.0000 - tn: 736746.0000 - tp: 474.0000 - precision: 0.6371 - recall: 0.3164 - val_loss: 12.0084 - val_fn: 364.0000 - val_fp: 143.0000 - val_tn: 184357.0000 - val_tp: 11.0000 - val_precision: 0.0714 - val_recall: 0.0293 - 272ms/epoch - 6ms/step\n",
      "Epoch 19/80\n",
      "47/47 - 0s - loss: 1.4991 - fn: 917.0000 - fp: 287.0000 - tn: 736729.0000 - tp: 581.0000 - precision: 0.6694 - recall: 0.3879 - val_loss: 12.6507 - val_fn: 363.0000 - val_fp: 159.0000 - val_tn: 184341.0000 - val_tp: 12.0000 - val_precision: 0.0702 - val_recall: 0.0320 - 278ms/epoch - 6ms/step\n",
      "Epoch 20/80\n",
      "47/47 - 0s - loss: 1.3989 - fn: 861.0000 - fp: 275.0000 - tn: 736741.0000 - tp: 637.0000 - precision: 0.6985 - recall: 0.4252 - val_loss: 12.1978 - val_fn: 361.0000 - val_fp: 168.0000 - val_tn: 184332.0000 - val_tp: 14.0000 - val_precision: 0.0769 - val_recall: 0.0373 - 279ms/epoch - 6ms/step\n",
      "Epoch 21/80\n",
      "47/47 - 0s - loss: 1.3001 - fn: 783.0000 - fp: 268.0000 - tn: 736748.0000 - tp: 715.0000 - precision: 0.7274 - recall: 0.4773 - val_loss: 12.4562 - val_fn: 361.0000 - val_fp: 169.0000 - val_tn: 184331.0000 - val_tp: 14.0000 - val_precision: 0.0765 - val_recall: 0.0373 - 274ms/epoch - 6ms/step\n",
      "Epoch 22/80\n",
      "47/47 - 0s - loss: 1.2907 - fn: 751.0000 - fp: 286.0000 - tn: 736730.0000 - tp: 747.0000 - precision: 0.7231 - recall: 0.4987 - val_loss: 13.5402 - val_fn: 364.0000 - val_fp: 188.0000 - val_tn: 184312.0000 - val_tp: 11.0000 - val_precision: 0.0553 - val_recall: 0.0293 - 273ms/epoch - 6ms/step\n",
      "Epoch 23/80\n",
      "47/47 - 0s - loss: 1.1542 - fn: 714.0000 - fp: 277.0000 - tn: 736739.0000 - tp: 784.0000 - precision: 0.7389 - recall: 0.5234 - val_loss: 14.2641 - val_fn: 362.0000 - val_fp: 205.0000 - val_tn: 184295.0000 - val_tp: 13.0000 - val_precision: 0.0596 - val_recall: 0.0347 - 278ms/epoch - 6ms/step\n",
      "Epoch 24/80\n",
      "47/47 - 0s - loss: 1.1371 - fn: 695.0000 - fp: 259.0000 - tn: 736757.0000 - tp: 803.0000 - precision: 0.7561 - recall: 0.5360 - val_loss: 15.2033 - val_fn: 355.0000 - val_fp: 194.0000 - val_tn: 184306.0000 - val_tp: 20.0000 - val_precision: 0.0935 - val_recall: 0.0533 - 278ms/epoch - 6ms/step\n",
      "Epoch 25/80\n",
      "47/47 - 0s - loss: 1.2325 - fn: 710.0000 - fp: 291.0000 - tn: 736725.0000 - tp: 788.0000 - precision: 0.7303 - recall: 0.5260 - val_loss: 14.9225 - val_fn: 358.0000 - val_fp: 206.0000 - val_tn: 184294.0000 - val_tp: 17.0000 - val_precision: 0.0762 - val_recall: 0.0453 - 274ms/epoch - 6ms/step\n",
      "Epoch 26/80\n",
      "47/47 - 0s - loss: 1.1286 - fn: 679.0000 - fp: 255.0000 - tn: 736761.0000 - tp: 819.0000 - precision: 0.7626 - recall: 0.5467 - val_loss: 15.7073 - val_fn: 359.0000 - val_fp: 217.0000 - val_tn: 184283.0000 - val_tp: 16.0000 - val_precision: 0.0687 - val_recall: 0.0427 - 275ms/epoch - 6ms/step\n",
      "Epoch 27/80\n",
      "47/47 - 0s - loss: 1.0309 - fn: 620.0000 - fp: 279.0000 - tn: 736737.0000 - tp: 878.0000 - precision: 0.7589 - recall: 0.5861 - val_loss: 15.9223 - val_fn: 355.0000 - val_fp: 223.0000 - val_tn: 184277.0000 - val_tp: 20.0000 - val_precision: 0.0823 - val_recall: 0.0533 - 276ms/epoch - 6ms/step\n"
     ]
    },
    {
     "name": "stdout",
     "output_type": "stream",
     "text": [
      "Epoch 28/80\n",
      "47/47 - 0s - loss: 0.9565 - fn: 560.0000 - fp: 256.0000 - tn: 736760.0000 - tp: 938.0000 - precision: 0.7856 - recall: 0.6262 - val_loss: 16.0289 - val_fn: 359.0000 - val_fp: 222.0000 - val_tn: 184278.0000 - val_tp: 16.0000 - val_precision: 0.0672 - val_recall: 0.0427 - 272ms/epoch - 6ms/step\n",
      "Epoch 29/80\n",
      "47/47 - 0s - loss: 0.8859 - fn: 531.0000 - fp: 251.0000 - tn: 736765.0000 - tp: 967.0000 - precision: 0.7939 - recall: 0.6455 - val_loss: 16.6489 - val_fn: 360.0000 - val_fp: 244.0000 - val_tn: 184256.0000 - val_tp: 15.0000 - val_precision: 0.0579 - val_recall: 0.0400 - 284ms/epoch - 6ms/step\n",
      "Epoch 30/80\n",
      "47/47 - 0s - loss: 0.8772 - fn: 519.0000 - fp: 240.0000 - tn: 736776.0000 - tp: 979.0000 - precision: 0.8031 - recall: 0.6535 - val_loss: 17.3336 - val_fn: 361.0000 - val_fp: 254.0000 - val_tn: 184246.0000 - val_tp: 14.0000 - val_precision: 0.0522 - val_recall: 0.0373 - 277ms/epoch - 6ms/step\n",
      "Epoch 31/80\n",
      "47/47 - 0s - loss: 0.8429 - fn: 501.0000 - fp: 251.0000 - tn: 736765.0000 - tp: 997.0000 - precision: 0.7989 - recall: 0.6656 - val_loss: 18.1788 - val_fn: 355.0000 - val_fp: 270.0000 - val_tn: 184230.0000 - val_tp: 20.0000 - val_precision: 0.0690 - val_recall: 0.0533 - 297ms/epoch - 6ms/step\n",
      "Epoch 32/80\n",
      "47/47 - 0s - loss: 0.8815 - fn: 508.0000 - fp: 281.0000 - tn: 736735.0000 - tp: 990.0000 - precision: 0.7789 - recall: 0.6609 - val_loss: 18.1695 - val_fn: 358.0000 - val_fp: 263.0000 - val_tn: 184237.0000 - val_tp: 17.0000 - val_precision: 0.0607 - val_recall: 0.0453 - 322ms/epoch - 7ms/step\n",
      "Epoch 33/80\n",
      "47/47 - 0s - loss: 0.7694 - fn: 462.0000 - fp: 240.0000 - tn: 736776.0000 - tp: 1036.0000 - precision: 0.8119 - recall: 0.6916 - val_loss: 19.3043 - val_fn: 365.0000 - val_fp: 275.0000 - val_tn: 184225.0000 - val_tp: 10.0000 - val_precision: 0.0351 - val_recall: 0.0267 - 290ms/epoch - 6ms/step\n",
      "Epoch 34/80\n",
      "47/47 - 0s - loss: 0.9335 - fn: 489.0000 - fp: 286.0000 - tn: 736730.0000 - tp: 1009.0000 - precision: 0.7792 - recall: 0.6736 - val_loss: 17.6426 - val_fn: 364.0000 - val_fp: 260.0000 - val_tn: 184240.0000 - val_tp: 11.0000 - val_precision: 0.0406 - val_recall: 0.0293 - 277ms/epoch - 6ms/step\n",
      "Epoch 35/80\n",
      "47/47 - 0s - loss: 1.0648 - fn: 597.0000 - fp: 332.0000 - tn: 736684.0000 - tp: 901.0000 - precision: 0.7307 - recall: 0.6015 - val_loss: 17.8952 - val_fn: 359.0000 - val_fp: 263.0000 - val_tn: 184237.0000 - val_tp: 16.0000 - val_precision: 0.0573 - val_recall: 0.0427 - 273ms/epoch - 6ms/step\n",
      "Epoch 36/80\n",
      "47/47 - 0s - loss: 0.7552 - fn: 464.0000 - fp: 236.0000 - tn: 736780.0000 - tp: 1034.0000 - precision: 0.8142 - recall: 0.6903 - val_loss: 18.6184 - val_fn: 356.0000 - val_fp: 265.0000 - val_tn: 184235.0000 - val_tp: 19.0000 - val_precision: 0.0669 - val_recall: 0.0507 - 278ms/epoch - 6ms/step\n",
      "Epoch 37/80\n",
      "47/47 - 0s - loss: 0.8337 - fn: 465.0000 - fp: 269.0000 - tn: 736747.0000 - tp: 1033.0000 - precision: 0.7934 - recall: 0.6896 - val_loss: 18.8475 - val_fn: 355.0000 - val_fp: 273.0000 - val_tn: 184227.0000 - val_tp: 20.0000 - val_precision: 0.0683 - val_recall: 0.0533 - 274ms/epoch - 6ms/step\n",
      "Epoch 38/80\n",
      "47/47 - 0s - loss: 0.8869 - fn: 466.0000 - fp: 267.0000 - tn: 736749.0000 - tp: 1032.0000 - precision: 0.7945 - recall: 0.6889 - val_loss: 20.8530 - val_fn: 358.0000 - val_fp: 270.0000 - val_tn: 184230.0000 - val_tp: 17.0000 - val_precision: 0.0592 - val_recall: 0.0453 - 279ms/epoch - 6ms/step\n",
      "Epoch 39/80\n",
      "47/47 - 0s - loss: 0.9203 - fn: 497.0000 - fp: 296.0000 - tn: 736720.0000 - tp: 1001.0000 - precision: 0.7718 - recall: 0.6682 - val_loss: 18.9958 - val_fn: 356.0000 - val_fp: 265.0000 - val_tn: 184235.0000 - val_tp: 19.0000 - val_precision: 0.0669 - val_recall: 0.0507 - 275ms/epoch - 6ms/step\n",
      "Epoch 40/80\n",
      "47/47 - 0s - loss: 0.8583 - fn: 482.0000 - fp: 271.0000 - tn: 736745.0000 - tp: 1016.0000 - precision: 0.7894 - recall: 0.6782 - val_loss: 20.2605 - val_fn: 360.0000 - val_fp: 271.0000 - val_tn: 184229.0000 - val_tp: 15.0000 - val_precision: 0.0524 - val_recall: 0.0400 - 275ms/epoch - 6ms/step\n",
      "Epoch 41/80\n",
      "47/47 - 0s - loss: 0.7858 - fn: 412.0000 - fp: 250.0000 - tn: 736766.0000 - tp: 1086.0000 - precision: 0.8129 - recall: 0.7250 - val_loss: 20.0277 - val_fn: 356.0000 - val_fp: 278.0000 - val_tn: 184222.0000 - val_tp: 19.0000 - val_precision: 0.0640 - val_recall: 0.0507 - 275ms/epoch - 6ms/step\n",
      "Epoch 42/80\n",
      "47/47 - 0s - loss: 0.8045 - fn: 421.0000 - fp: 261.0000 - tn: 736755.0000 - tp: 1077.0000 - precision: 0.8049 - recall: 0.7190 - val_loss: 21.5493 - val_fn: 355.0000 - val_fp: 276.0000 - val_tn: 184224.0000 - val_tp: 20.0000 - val_precision: 0.0676 - val_recall: 0.0533 - 278ms/epoch - 6ms/step\n",
      "Epoch 43/80\n",
      "47/47 - 0s - loss: 0.7077 - fn: 418.0000 - fp: 270.0000 - tn: 736746.0000 - tp: 1080.0000 - precision: 0.8000 - recall: 0.7210 - val_loss: 21.2900 - val_fn: 354.0000 - val_fp: 285.0000 - val_tn: 184215.0000 - val_tp: 21.0000 - val_precision: 0.0686 - val_recall: 0.0560 - 269ms/epoch - 6ms/step\n",
      "Epoch 44/80\n",
      "47/47 - 0s - loss: 0.7472 - fn: 386.0000 - fp: 253.0000 - tn: 736763.0000 - tp: 1112.0000 - precision: 0.8147 - recall: 0.7423 - val_loss: 22.0719 - val_fn: 353.0000 - val_fp: 285.0000 - val_tn: 184215.0000 - val_tp: 22.0000 - val_precision: 0.0717 - val_recall: 0.0587 - 280ms/epoch - 6ms/step\n",
      "Epoch 45/80\n",
      "47/47 - 0s - loss: 0.8225 - fn: 436.0000 - fp: 280.0000 - tn: 736736.0000 - tp: 1062.0000 - precision: 0.7914 - recall: 0.7089 - val_loss: 21.0618 - val_fn: 357.0000 - val_fp: 281.0000 - val_tn: 184219.0000 - val_tp: 18.0000 - val_precision: 0.0602 - val_recall: 0.0480 - 280ms/epoch - 6ms/step\n",
      "Epoch 46/80\n",
      "47/47 - 0s - loss: 0.7532 - fn: 407.0000 - fp: 256.0000 - tn: 736760.0000 - tp: 1091.0000 - precision: 0.8099 - recall: 0.7283 - val_loss: 21.0172 - val_fn: 361.0000 - val_fp: 296.0000 - val_tn: 184204.0000 - val_tp: 14.0000 - val_precision: 0.0452 - val_recall: 0.0373 - 269ms/epoch - 6ms/step\n",
      "Epoch 47/80\n",
      "47/47 - 0s - loss: 0.6805 - fn: 362.0000 - fp: 227.0000 - tn: 736789.0000 - tp: 1136.0000 - precision: 0.8335 - recall: 0.7583 - val_loss: 21.4242 - val_fn: 359.0000 - val_fp: 291.0000 - val_tn: 184209.0000 - val_tp: 16.0000 - val_precision: 0.0521 - val_recall: 0.0427 - 278ms/epoch - 6ms/step\n",
      "Epoch 48/80\n",
      "47/47 - 0s - loss: 0.6265 - fn: 327.0000 - fp: 214.0000 - tn: 736802.0000 - tp: 1171.0000 - precision: 0.8455 - recall: 0.7817 - val_loss: 21.5815 - val_fn: 363.0000 - val_fp: 300.0000 - val_tn: 184200.0000 - val_tp: 12.0000 - val_precision: 0.0385 - val_recall: 0.0320 - 280ms/epoch - 6ms/step\n",
      "Epoch 49/80\n",
      "47/47 - 0s - loss: 0.6200 - fn: 324.0000 - fp: 201.0000 - tn: 736815.0000 - tp: 1174.0000 - precision: 0.8538 - recall: 0.7837 - val_loss: 22.9498 - val_fn: 355.0000 - val_fp: 300.0000 - val_tn: 184200.0000 - val_tp: 20.0000 - val_precision: 0.0625 - val_recall: 0.0533 - 279ms/epoch - 6ms/step\n",
      "Epoch 50/80\n",
      "47/47 - 0s - loss: 0.6691 - fn: 346.0000 - fp: 229.0000 - tn: 736787.0000 - tp: 1152.0000 - precision: 0.8342 - recall: 0.7690 - val_loss: 23.0058 - val_fn: 364.0000 - val_fp: 300.0000 - val_tn: 184200.0000 - val_tp: 11.0000 - val_precision: 0.0354 - val_recall: 0.0293 - 275ms/epoch - 6ms/step\n",
      "Epoch 51/80\n",
      "47/47 - 0s - loss: 0.6376 - fn: 338.0000 - fp: 236.0000 - tn: 736780.0000 - tp: 1160.0000 - precision: 0.8309 - recall: 0.7744 - val_loss: 22.5451 - val_fn: 360.0000 - val_fp: 297.0000 - val_tn: 184203.0000 - val_tp: 15.0000 - val_precision: 0.0481 - val_recall: 0.0400 - 274ms/epoch - 6ms/step\n",
      "Epoch 52/80\n",
      "47/47 - 0s - loss: 0.6838 - fn: 354.0000 - fp: 225.0000 - tn: 736791.0000 - tp: 1144.0000 - precision: 0.8356 - recall: 0.7637 - val_loss: 22.8971 - val_fn: 359.0000 - val_fp: 289.0000 - val_tn: 184211.0000 - val_tp: 16.0000 - val_precision: 0.0525 - val_recall: 0.0427 - 278ms/epoch - 6ms/step\n",
      "Epoch 53/80\n",
      "47/47 - 0s - loss: 0.5676 - fn: 295.0000 - fp: 199.0000 - tn: 736817.0000 - tp: 1203.0000 - precision: 0.8581 - recall: 0.8031 - val_loss: 22.5318 - val_fn: 356.0000 - val_fp: 291.0000 - val_tn: 184209.0000 - val_tp: 19.0000 - val_precision: 0.0613 - val_recall: 0.0507 - 272ms/epoch - 6ms/step\n",
      "Epoch 54/80\n",
      "47/47 - 0s - loss: 0.5335 - fn: 298.0000 - fp: 186.0000 - tn: 736830.0000 - tp: 1200.0000 - precision: 0.8658 - recall: 0.8011 - val_loss: 23.4280 - val_fn: 355.0000 - val_fp: 289.0000 - val_tn: 184211.0000 - val_tp: 20.0000 - val_precision: 0.0647 - val_recall: 0.0533 - 277ms/epoch - 6ms/step\n"
     ]
    },
    {
     "name": "stdout",
     "output_type": "stream",
     "text": [
      "Epoch 55/80\n",
      "47/47 - 0s - loss: 0.4388 - fn: 238.0000 - fp: 156.0000 - tn: 736860.0000 - tp: 1260.0000 - precision: 0.8898 - recall: 0.8411 - val_loss: 22.8934 - val_fn: 353.0000 - val_fp: 298.0000 - val_tn: 184202.0000 - val_tp: 22.0000 - val_precision: 0.0688 - val_recall: 0.0587 - 279ms/epoch - 6ms/step\n",
      "Epoch 56/80\n",
      "47/47 - 0s - loss: 0.4260 - fn: 225.0000 - fp: 164.0000 - tn: 736852.0000 - tp: 1273.0000 - precision: 0.8859 - recall: 0.8498 - val_loss: 24.8133 - val_fn: 358.0000 - val_fp: 302.0000 - val_tn: 184198.0000 - val_tp: 17.0000 - val_precision: 0.0533 - val_recall: 0.0453 - 296ms/epoch - 6ms/step\n",
      "Epoch 57/80\n",
      "47/47 - 0s - loss: 0.4358 - fn: 238.0000 - fp: 158.0000 - tn: 736858.0000 - tp: 1260.0000 - precision: 0.8886 - recall: 0.8411 - val_loss: 24.1278 - val_fn: 353.0000 - val_fp: 303.0000 - val_tn: 184197.0000 - val_tp: 22.0000 - val_precision: 0.0677 - val_recall: 0.0587 - 324ms/epoch - 7ms/step\n",
      "Epoch 58/80\n",
      "47/47 - 0s - loss: 0.4932 - fn: 255.0000 - fp: 162.0000 - tn: 736854.0000 - tp: 1243.0000 - precision: 0.8847 - recall: 0.8298 - val_loss: 24.6197 - val_fn: 357.0000 - val_fp: 278.0000 - val_tn: 184222.0000 - val_tp: 18.0000 - val_precision: 0.0608 - val_recall: 0.0480 - 280ms/epoch - 6ms/step\n",
      "Epoch 59/80\n",
      "47/47 - 0s - loss: 0.4723 - fn: 249.0000 - fp: 171.0000 - tn: 736845.0000 - tp: 1249.0000 - precision: 0.8796 - recall: 0.8338 - val_loss: 24.8245 - val_fn: 355.0000 - val_fp: 313.0000 - val_tn: 184187.0000 - val_tp: 20.0000 - val_precision: 0.0601 - val_recall: 0.0533 - 278ms/epoch - 6ms/step\n",
      "Epoch 60/80\n",
      "47/47 - 0s - loss: 0.4454 - fn: 226.0000 - fp: 149.0000 - tn: 736867.0000 - tp: 1272.0000 - precision: 0.8951 - recall: 0.8491 - val_loss: 24.9638 - val_fn: 353.0000 - val_fp: 308.0000 - val_tn: 184192.0000 - val_tp: 22.0000 - val_precision: 0.0667 - val_recall: 0.0587 - 278ms/epoch - 6ms/step\n",
      "Epoch 61/80\n",
      "47/47 - 0s - loss: 0.3978 - fn: 214.0000 - fp: 155.0000 - tn: 736861.0000 - tp: 1284.0000 - precision: 0.8923 - recall: 0.8571 - val_loss: 24.7747 - val_fn: 358.0000 - val_fp: 312.0000 - val_tn: 184188.0000 - val_tp: 17.0000 - val_precision: 0.0517 - val_recall: 0.0453 - 277ms/epoch - 6ms/step\n",
      "Epoch 62/80\n",
      "47/47 - 0s - loss: 0.3785 - fn: 198.0000 - fp: 140.0000 - tn: 736876.0000 - tp: 1300.0000 - precision: 0.9028 - recall: 0.8678 - val_loss: 26.2903 - val_fn: 355.0000 - val_fp: 304.0000 - val_tn: 184196.0000 - val_tp: 20.0000 - val_precision: 0.0617 - val_recall: 0.0533 - 276ms/epoch - 6ms/step\n",
      "Epoch 63/80\n",
      "47/47 - 0s - loss: 0.5467 - fn: 273.0000 - fp: 198.0000 - tn: 736818.0000 - tp: 1225.0000 - precision: 0.8609 - recall: 0.8178 - val_loss: 25.9613 - val_fn: 354.0000 - val_fp: 308.0000 - val_tn: 184192.0000 - val_tp: 21.0000 - val_precision: 0.0638 - val_recall: 0.0560 - 292ms/epoch - 6ms/step\n",
      "Epoch 64/80\n",
      "47/47 - 0s - loss: 0.8214 - fn: 350.0000 - fp: 268.0000 - tn: 736748.0000 - tp: 1148.0000 - precision: 0.8107 - recall: 0.7664 - val_loss: 25.4708 - val_fn: 362.0000 - val_fp: 312.0000 - val_tn: 184188.0000 - val_tp: 13.0000 - val_precision: 0.0400 - val_recall: 0.0347 - 286ms/epoch - 6ms/step\n",
      "Epoch 65/80\n",
      "47/47 - 0s - loss: 0.8154 - fn: 385.0000 - fp: 270.0000 - tn: 736746.0000 - tp: 1113.0000 - precision: 0.8048 - recall: 0.7430 - val_loss: 23.8782 - val_fn: 356.0000 - val_fp: 300.0000 - val_tn: 184200.0000 - val_tp: 19.0000 - val_precision: 0.0596 - val_recall: 0.0507 - 280ms/epoch - 6ms/step\n",
      "Epoch 66/80\n",
      "47/47 - 0s - loss: 0.8449 - fn: 372.0000 - fp: 283.0000 - tn: 736733.0000 - tp: 1126.0000 - precision: 0.7991 - recall: 0.7517 - val_loss: 25.3503 - val_fn: 358.0000 - val_fp: 297.0000 - val_tn: 184203.0000 - val_tp: 17.0000 - val_precision: 0.0541 - val_recall: 0.0453 - 282ms/epoch - 6ms/step\n",
      "Epoch 67/80\n",
      "47/47 - 0s - loss: 0.6490 - fn: 323.0000 - fp: 241.0000 - tn: 736775.0000 - tp: 1175.0000 - precision: 0.8298 - recall: 0.7844 - val_loss: 24.9593 - val_fn: 354.0000 - val_fp: 298.0000 - val_tn: 184202.0000 - val_tp: 21.0000 - val_precision: 0.0658 - val_recall: 0.0560 - 282ms/epoch - 6ms/step\n",
      "Epoch 68/80\n",
      "47/47 - 0s - loss: 0.6967 - fn: 338.0000 - fp: 237.0000 - tn: 736779.0000 - tp: 1160.0000 - precision: 0.8304 - recall: 0.7744 - val_loss: 24.8850 - val_fn: 353.0000 - val_fp: 300.0000 - val_tn: 184200.0000 - val_tp: 22.0000 - val_precision: 0.0683 - val_recall: 0.0587 - 281ms/epoch - 6ms/step\n",
      "Epoch 69/80\n",
      "47/47 - 0s - loss: 0.7044 - fn: 349.0000 - fp: 246.0000 - tn: 736770.0000 - tp: 1149.0000 - precision: 0.8237 - recall: 0.7670 - val_loss: 25.7818 - val_fn: 351.0000 - val_fp: 305.0000 - val_tn: 184195.0000 - val_tp: 24.0000 - val_precision: 0.0729 - val_recall: 0.0640 - 279ms/epoch - 6ms/step\n",
      "Epoch 70/80\n",
      "47/47 - 0s - loss: 0.6207 - fn: 291.0000 - fp: 212.0000 - tn: 736804.0000 - tp: 1207.0000 - precision: 0.8506 - recall: 0.8057 - val_loss: 25.4294 - val_fn: 355.0000 - val_fp: 314.0000 - val_tn: 184186.0000 - val_tp: 20.0000 - val_precision: 0.0599 - val_recall: 0.0533 - 276ms/epoch - 6ms/step\n",
      "Epoch 71/80\n",
      "47/47 - 0s - loss: 0.4934 - fn: 253.0000 - fp: 191.0000 - tn: 736825.0000 - tp: 1245.0000 - precision: 0.8670 - recall: 0.8311 - val_loss: 25.5423 - val_fn: 360.0000 - val_fp: 314.0000 - val_tn: 184186.0000 - val_tp: 15.0000 - val_precision: 0.0456 - val_recall: 0.0400 - 276ms/epoch - 6ms/step\n",
      "Epoch 72/80\n",
      "47/47 - 0s - loss: 0.4333 - fn: 240.0000 - fp: 177.0000 - tn: 736839.0000 - tp: 1258.0000 - precision: 0.8767 - recall: 0.8398 - val_loss: 26.7036 - val_fn: 358.0000 - val_fp: 320.0000 - val_tn: 184180.0000 - val_tp: 17.0000 - val_precision: 0.0504 - val_recall: 0.0453 - 281ms/epoch - 6ms/step\n",
      "Epoch 73/80\n",
      "47/47 - 0s - loss: 0.5391 - fn: 264.0000 - fp: 191.0000 - tn: 736825.0000 - tp: 1234.0000 - precision: 0.8660 - recall: 0.8238 - val_loss: 26.8581 - val_fn: 352.0000 - val_fp: 315.0000 - val_tn: 184185.0000 - val_tp: 23.0000 - val_precision: 0.0680 - val_recall: 0.0613 - 277ms/epoch - 6ms/step\n",
      "Epoch 74/80\n",
      "47/47 - 0s - loss: 0.6472 - fn: 304.0000 - fp: 225.0000 - tn: 736791.0000 - tp: 1194.0000 - precision: 0.8414 - recall: 0.7971 - val_loss: 25.7229 - val_fn: 352.0000 - val_fp: 313.0000 - val_tn: 184187.0000 - val_tp: 23.0000 - val_precision: 0.0685 - val_recall: 0.0613 - 274ms/epoch - 6ms/step\n",
      "Epoch 75/80\n",
      "47/47 - 0s - loss: 0.6192 - fn: 272.0000 - fp: 203.0000 - tn: 736813.0000 - tp: 1226.0000 - precision: 0.8579 - recall: 0.8184 - val_loss: 28.1354 - val_fn: 357.0000 - val_fp: 319.0000 - val_tn: 184181.0000 - val_tp: 18.0000 - val_precision: 0.0534 - val_recall: 0.0480 - 282ms/epoch - 6ms/step\n",
      "Epoch 76/80\n",
      "47/47 - 0s - loss: 0.7908 - fn: 299.0000 - fp: 237.0000 - tn: 736779.0000 - tp: 1199.0000 - precision: 0.8350 - recall: 0.8004 - val_loss: 28.1922 - val_fn: 360.0000 - val_fp: 317.0000 - val_tn: 184183.0000 - val_tp: 15.0000 - val_precision: 0.0452 - val_recall: 0.0400 - 281ms/epoch - 6ms/step\n",
      "Epoch 77/80\n",
      "47/47 - 0s - loss: 0.7167 - fn: 324.0000 - fp: 250.0000 - tn: 736766.0000 - tp: 1174.0000 - precision: 0.8244 - recall: 0.7837 - val_loss: 26.7257 - val_fn: 350.0000 - val_fp: 297.0000 - val_tn: 184203.0000 - val_tp: 25.0000 - val_precision: 0.0776 - val_recall: 0.0667 - 271ms/epoch - 6ms/step\n",
      "Epoch 78/80\n",
      "47/47 - 0s - loss: 0.4898 - fn: 261.0000 - fp: 200.0000 - tn: 736816.0000 - tp: 1237.0000 - precision: 0.8608 - recall: 0.8258 - val_loss: 27.9476 - val_fn: 355.0000 - val_fp: 321.0000 - val_tn: 184179.0000 - val_tp: 20.0000 - val_precision: 0.0587 - val_recall: 0.0533 - 275ms/epoch - 6ms/step\n",
      "Epoch 79/80\n",
      "47/47 - 0s - loss: 0.5565 - fn: 264.0000 - fp: 185.0000 - tn: 736831.0000 - tp: 1234.0000 - precision: 0.8696 - recall: 0.8238 - val_loss: 28.0017 - val_fn: 356.0000 - val_fp: 317.0000 - val_tn: 184183.0000 - val_tp: 19.0000 - val_precision: 0.0565 - val_recall: 0.0507 - 280ms/epoch - 6ms/step\n",
      "Epoch 80/80\n",
      "47/47 - 0s - loss: 0.5739 - fn: 283.0000 - fp: 221.0000 - tn: 736795.0000 - tp: 1215.0000 - precision: 0.8461 - recall: 0.8111 - val_loss: 27.1202 - val_fn: 357.0000 - val_fp: 313.0000 - val_tn: 184187.0000 - val_tp: 18.0000 - val_precision: 0.0544 - val_recall: 0.0480 - 276ms/epoch - 6ms/step\n"
     ]
    },
    {
     "data": {
      "text/plain": [
       "<keras.callbacks.History at 0x2afcb221f90>"
      ]
     },
     "execution_count": 361,
     "metadata": {},
     "output_type": "execute_result"
    }
   ],
   "source": [
    "model.fit(\n",
    "    np_Xtrain,\n",
    "    np_ytrain,\n",
    "    epochs=80,\n",
    "    verbose=2,\n",
    "    validation_data=(np_Xtest, np_ytest),\n",
    ")"
   ]
  },
  {
   "cell_type": "markdown",
   "id": "83092aff",
   "metadata": {},
   "source": [
    "Model performance"
   ]
  },
  {
   "cell_type": "code",
   "execution_count": 362,
   "id": "416dbb4a",
   "metadata": {},
   "outputs": [
    {
     "name": "stdout",
     "output_type": "stream",
     "text": [
      "12/12 [==============================] - 0s 3ms/step - loss: 27.1202 - fn: 357.0000 - fp: 313.0000 - tn: 184187.0000 - tp: 18.0000 - precision: 0.0544 - recall: 0.0480\n"
     ]
    },
    {
     "data": {
      "text/plain": [
       "[27.120159149169922,\n",
       " 357.0,\n",
       " 313.0,\n",
       " 184187.0,\n",
       " 18.0,\n",
       " 0.054380666464567184,\n",
       " 0.04800000041723251]"
      ]
     },
     "execution_count": 362,
     "metadata": {},
     "output_type": "execute_result"
    }
   ],
   "source": [
    "model.evaluate(np_Xtest,np_ytest)"
   ]
  }
 ],
 "metadata": {
  "kernelspec": {
   "display_name": "Python 3 (ipykernel)",
   "language": "python",
   "name": "python3"
  },
  "language_info": {
   "codemirror_mode": {
    "name": "ipython",
    "version": 3
   },
   "file_extension": ".py",
   "mimetype": "text/x-python",
   "name": "python",
   "nbconvert_exporter": "python",
   "pygments_lexer": "ipython3",
   "version": "3.10.4"
  }
 },
 "nbformat": 4,
 "nbformat_minor": 5
}
